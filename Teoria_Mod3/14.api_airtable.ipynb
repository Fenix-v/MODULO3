{
 "cells": [
  {
   "cell_type": "markdown",
   "id": "faaeef10",
   "metadata": {},
   "source": [
    "## Airtable\n",
    "\n",
    "**Airtable** es una plataforma online fácil de usar para crear y compartir bases de datos. La interfaz es sencilla, amigable y permite a cualquier persona crear una base de datos.\n",
    "\n",
    "_**Documentación:** https://airtable.com/developers/web/api/introduction_"
   ]
  },
  {
   "cell_type": "code",
   "execution_count": null,
   "id": "4810ee23",
   "metadata": {},
   "outputs": [],
   "source": [
    "import numpy as np\n",
    "import pandas as pd\n",
    "\n",
    "import requests\n",
    "\n",
    "from pprint import pprint"
   ]
  },
  {
   "cell_type": "code",
   "execution_count": null,
   "id": "9256808c-87ff-496e-a366-88262a675911",
   "metadata": {},
   "outputs": [],
   "source": [
    "# Versiones\n",
    "\n",
    "print(f\"numpy=={np.__version__}\")\n",
    "print(f\"pandas=={pd.__version__}\")\n",
    "print(f\"requests=={requests.__version__}\")"
   ]
  },
  {
   "cell_type": "markdown",
   "id": "5699ae36",
   "metadata": {},
   "source": [
    "#### Authentication - Tokens "
   ]
  },
  {
   "cell_type": "code",
   "execution_count": null,
   "id": "9c1b5853",
   "metadata": {},
   "outputs": [],
   "source": [
    "TOKEN = \"patJ9tx1cx5VY0mYl.abcdefgh1234567890ABCDEFGHIJKLMNOPQRSTUVWXY1234567890\" # Usuario\n",
    "\n",
    "BASE_ID = \"app2hLPOGc7G1UjfX\" # Base: Ensaladas - API\n",
    "\n",
    "TABLE_ID = \"tbl42rhIPJQkrMdbH\" # Tabla: datos_1\n",
    "\n",
    "airtable_base_url = \"https://api.airtable.com/v0\""
   ]
  },
  {
   "cell_type": "code",
   "execution_count": null,
   "id": "26ca2dd1",
   "metadata": {},
   "outputs": [],
   "source": [
    "# Headers\n",
    "headers = {\"Authorization\" : f\"Bearer {TOKEN}\",\n",
    "           \"Content-Type\"  : \"application/json\"}\n",
    "\n",
    "pprint(headers)"
   ]
  },
  {
   "cell_type": "markdown",
   "id": "d86f3aa7",
   "metadata": {},
   "source": [
    "### 01. List Records\n",
    "\n",
    "```html\n",
    "endpoint: https://api.airtable.com/v0/{BASE_ID}/{TABLE_ID}\n",
    "HTTP method: GET\n",
    "```\n",
    "\n",
    "**`Params:`**\n",
    "- **fields** : _array of strings_ : `optional`\n",
    "    - Only data for fields whose names are in this list will be included in the result. If you don't need every field, you can use this parameter to reduce the amount of data transferred.\n",
    "\n",
    "\n",
    "- **filterByFormula** : _string_ : `optional`\n",
    "    - A [formula](https://support.airtable.com/docs/formula-field-reference) used to filter records. The formula will be evaluated for each record, and if the result is not 0, false, \"\", NaN, [], or #Error! the record will be included in the response. We recommend testing your formula in the Formula field UI before using it in your API request. If combined with the view parameter, only records in that view which satisfy the formula will be returned. The formula must be encoded first before passing it as a value. You can use this tool to not only encode the formula but also create the entire url you need.\n",
    "\n",
    "\n",
    "- **maxRecords** : _number_ : `optional`\n",
    "    - The maximum total number of records that will be returned in your requests. If this value is larger than pageSize (which is 100 by default), you may have to load multiple pages to reach this total.\n",
    "    \n",
    "    \n",
    "- **pageSize** : _number_ : `optional`\n",
    "    - The number of records returned in each request. Must be less than or equal to 100. Default is 100.\n",
    "    \n",
    "    \n",
    "- **sort** : _array of objects_ : `optional`\n",
    "    - A list of sort objects that specifies how the records will be ordered. Each sort object must have a field key specifying the name of the field to sort on, and an optional direction key that is either \"asc\" or \"desc\". The default direction is \"asc\". The sort parameter overrides the sorting of the view specified in the view parameter. If neither the sort nor the view parameter is included, the order of records is arbitrary.\n",
    "    \n",
    "    \n",
    "        - For example, to sort records by Name in descending order, send these two query parameters:\n",
    "            - sort%5B0%5D%5Bfield%5D=Name\n",
    "            - sort%5B0%5D%5Bdirection%5D=desc\n",
    "            \n",
    "          For example, to sort records by Name in descending order, pass in:\n",
    "            - [{field: \"Name\", direction: \"desc\"}]\n",
    "            \n",
    "- **cellFormat** : _string_ : `optional`\n",
    "    - The format that should be used for cell values. Supported values are:\n",
    "        - **json**: cells will be formatted as JSON, depending on the field type.\n",
    "        - **string**: cells will be formatted as user-facing strings, regardless of the field type. The **timeZone** and **userLocale** parameters are required when using string as the **cellFormat**.\n",
    "        - The default is **json**.\n",
    "\n",
    "\n",
    "- **timeZone** : _string_ : `optional`\n",
    "    - The time zone that should be used to format dates when using string as the **cellFormat**. This parameter is required when using string as the **cellFormat**.\n",
    "    \n",
    "\n",
    "- **userLocale** : _string_ : `optional`\n",
    "    - The user locale that should be used to format dates when using string as the **cellFormat**. This parameter is required when using string as the **cellFormat**.\n",
    "    \n",
    "    \n",
    "- **returnFieldsByFieldId** : _boolean_ : `optional`\n",
    "    - An optional boolean value that lets you return field objects where the key is the field id.\n",
    "    - his defaults to **false**, which returns field objects where the key is the field name."
   ]
  },
  {
   "cell_type": "code",
   "execution_count": null,
   "id": "f545d685",
   "metadata": {},
   "outputs": [],
   "source": [
    "# List Records\n",
    "\n",
    "# Endpoint\n",
    "endpoint = f\"{airtable_base_url}/{BASE_ID}/{TABLE_ID}\"\n",
    "\n",
    "params = {\"fields\"                : None, \n",
    "          \"maxRecords\"            : None, \n",
    "          \"pageSize\"              : None,\n",
    "          \"returnFieldsByFieldId\" : None}\n",
    "\n",
    "print(endpoint)\n",
    "\n",
    "pprint(params, sort_dicts = False)"
   ]
  },
  {
   "cell_type": "code",
   "execution_count": null,
   "id": "c0d087a6",
   "metadata": {
    "scrolled": true
   },
   "outputs": [],
   "source": [
    "response = requests.get(url = endpoint, headers = headers, params = params)\n",
    "\n",
    "print(f\"response: {response.status_code}\")\n",
    "\n",
    "print(f\"endpoint: {response.url}\")\n",
    "\n",
    "print(\"-\"*120)\n",
    "\n",
    "pprint(response.json(), sort_dicts = False)\n",
    "\n",
    "print(\"-\"*120)\n",
    "\n",
    "records_id = [x[\"id\"] for x in response.json()[\"records\"]]"
   ]
  },
  {
   "cell_type": "code",
   "execution_count": null,
   "id": "d62a60f2",
   "metadata": {},
   "outputs": [],
   "source": [
    "print(len(response.json()[\"records\"]))"
   ]
  },
  {
   "cell_type": "markdown",
   "id": "a39fe40b",
   "metadata": {},
   "source": [
    "**Notas de la documentación**:\n",
    "\n",
    "```html\n",
    "Pagination\n",
    "The server returns one page of records at a time. Each page will contain pageSize records, which is 100 by default.\n",
    "\n",
    "If there are more records, the response will contain an offset. To fetch the next page of records, include offset in the next request's parameters.\n",
    "\n",
    "Pagination will stop when you've reached the end of your table. If the maxRecords parameter is passed, pagination will stop once you've reached this maximum.\n",
    "```\n",
    "\n",
    "Si quisieramos extraer más de 100 elementos, debemos usar el parámetro **offset** en el endpoint **GET**. La primera llamada no tendrá el parámetro **offset** pero retornará en el **JSON**  el **offset** que debemos agregar en la siguiente llamada como paràmetro."
   ]
  },
  {
   "cell_type": "code",
   "execution_count": null,
   "id": "072c8a60",
   "metadata": {},
   "outputs": [],
   "source": [
    "%%time\n",
    "\n",
    "params = {}\n",
    "\n",
    "endpoint = f\"{airtable_base_url}/{BASE_ID}/{TABLE_ID}\"\n",
    "\n",
    "datos = list()\n",
    "\n",
    "while params.get(\"offset\") != None or len(datos) == 0:\n",
    "    \n",
    "    response = requests.get(url = endpoint, headers = headers, params = params)\n",
    "    \n",
    "    print(f\"response: {response.status_code}\")\n",
    "    print(f\"endpoint: {response.url}\")\n",
    "    \n",
    "    data = response.json()\n",
    "    \n",
    "    offset = data.get(\"offset\")\n",
    "    \n",
    "    params[\"offset\"] = offset\n",
    "    \n",
    "    datos.extend(data[\"records\"])\n",
    "    \n",
    "print(len(datos))"
   ]
  },
  {
   "cell_type": "markdown",
   "id": "9621d9a7",
   "metadata": {},
   "source": [
    "### 02. Retrieve a Record\n",
    "\n",
    "```html\n",
    "endpoint: https://api.airtable.com/v0/{BASE_ID}/{TABLE_ID}/{RECORD_ID}\n",
    "HTTP method: GET\n",
    "```"
   ]
  },
  {
   "cell_type": "code",
   "execution_count": null,
   "id": "37a9f6e8",
   "metadata": {},
   "outputs": [],
   "source": [
    "# Retrieve a Record\n",
    "\n",
    "# Endpoint\n",
    "\n",
    "RECORD_ID = records_id[0]\n",
    "endpoint = f\"{airtable_base_url}/{BASE_ID}/{TABLE_ID}/{RECORD_ID}\"\n",
    "\n",
    "print(endpoint)"
   ]
  },
  {
   "cell_type": "code",
   "execution_count": null,
   "id": "fea77597",
   "metadata": {},
   "outputs": [],
   "source": [
    "response = requests.get(url = endpoint, headers = headers)\n",
    "\n",
    "print(f\"response: {response.status_code}\")\n",
    "\n",
    "print(f\"endpoint: {response.url}\")\n",
    "\n",
    "print(\"-\"*120)\n",
    "\n",
    "pprint(response.json(), sort_dicts = False)\n",
    "\n",
    "print(\"-\"*120)"
   ]
  },
  {
   "cell_type": "markdown",
   "id": "48f87150",
   "metadata": {},
   "source": [
    "### 03. Create Records\n",
    "\n",
    "```html\n",
    "endpoint: https://api.airtable.com/v0/{BASE_ID}/{TABLE_ID}\n",
    "HTTP method: POST\n",
    "```\n",
    "\n",
    "**Notas de la documentación**:\n",
    "```html\n",
    "Your request body should include an array of up to 10 record objects. Each of these objects should have one key whose value is an inner object containing your record's cell values, keyed by either field name or field id.\n",
    "\n",
    "Returns an array of record objects created if the call succeeded, including record IDs which will uniquely identify the records within Tabla API.\n",
    "```\n",
    "\n",
    "**Estructura de los datos**:\n",
    "```python\n",
    "{\"records\" : [{\"fields\" : {}},\n",
    "              {\"fields\" : {}}],\n",
    " \"typecast\" : True}\n",
    "```\n",
    "\n",
    "- _\"typecast\" : True_ permite a Airtable castear los elementos al tipo de dato correcto para cada columna en caso de ser posible.\n",
    "- Airtable no permite valores NaN's, para evitar errores debemos llenar los NaN's con el valor **None**."
   ]
  },
  {
   "cell_type": "code",
   "execution_count": null,
   "id": "48e6de58",
   "metadata": {},
   "outputs": [],
   "source": [
    "# Create Records\n",
    "\n",
    "# Endpoint\n",
    "endpoint = f\"{airtable_base_url}/{BASE_ID}/{TABLE_ID}\"\n",
    "\n",
    "print(endpoint)"
   ]
  },
  {
   "cell_type": "code",
   "execution_count": null,
   "id": "5a2ac833",
   "metadata": {},
   "outputs": [],
   "source": [
    "df = pd.read_csv(\"todas_recetas.csv\")\n",
    "\n",
    "df = df.sample(10).replace({np.nan : None})\n",
    "\n",
    "df"
   ]
  },
  {
   "cell_type": "code",
   "execution_count": null,
   "id": "b90139b4",
   "metadata": {
    "scrolled": true
   },
   "outputs": [],
   "source": [
    "# Primera Fila\n",
    "\n",
    "pprint(df.iloc[0, :].to_dict())"
   ]
  },
  {
   "cell_type": "code",
   "execution_count": null,
   "id": "6e7039b5",
   "metadata": {},
   "outputs": [],
   "source": [
    "# Bucle normal\n",
    "\n",
    "records = {\"records\"  : [],\n",
    "           \"typecast\" : True}\n",
    "\n",
    "for i in range(df.shape[0]):\n",
    "    \n",
    "    fila = {\"fields\" : df.iloc[i, :].to_dict()}\n",
    "    \n",
    "    records[\"records\"].append(fila)\n",
    "    \n",
    "pprint(records)"
   ]
  },
  {
   "cell_type": "code",
   "execution_count": null,
   "id": "b2db6a72",
   "metadata": {},
   "outputs": [],
   "source": [
    "# List Comprehensions\n",
    "\n",
    "pprint({\"records\" : [{\"fields\" : df.iloc[i, :].to_dict()} for i in range(df.shape[0])],\n",
    "        \"typecast\" : True})\n",
    "\n",
    "datos_subir = {\"records\" : [{\"fields\" : df.iloc[i, :].to_dict()} for i in range(df.shape[0])],\n",
    "               \"typecast\" : True}"
   ]
  },
  {
   "cell_type": "code",
   "execution_count": null,
   "id": "02c013ea",
   "metadata": {},
   "outputs": [],
   "source": [
    "response = requests.post(url = endpoint, json = datos_subir, headers = headers)\n",
    "\n",
    "print(f\"response: {response.status_code}\")\n",
    "\n",
    "print(f\"endpoint: {response.url}\")\n",
    "\n",
    "print(\"-\"*120)\n",
    "\n",
    "pprint(response.json(), sort_dicts = False)\n",
    "\n",
    "print(\"-\"*120)"
   ]
  },
  {
   "cell_type": "markdown",
   "id": "17151ee9",
   "metadata": {},
   "source": [
    "### 04. Update Records\n",
    "\n",
    "```html\n",
    "endpoint: https://api.airtable.com/v0/{BASE_ID}/{TABLE_ID}\n",
    "HTTP method: PATCH\n",
    "```\n",
    "\n",
    "**Notas de la documentación**:\n",
    "```html\n",
    "Your request body should include an array of up to 10 record objects. Each of these objects should have an id property representing the record ID and a fields property which contains all of your record's cell values by field name or field id for all of your record's cell values by field name.\n",
    "```\n",
    "\n",
    "**Estructura de los datos**:\n",
    "```python\n",
    "{\"records\" : [{\"id\"     : \"\",\n",
    "               \"fields\" : {\"field_1\" : \"\"\n",
    "                           \"field_2\" : \"\"}}]}\n",
    "```"
   ]
  },
  {
   "cell_type": "code",
   "execution_count": null,
   "id": "9f04e3b6",
   "metadata": {},
   "outputs": [],
   "source": [
    "# Update Records\n",
    "\n",
    "# Endpoint\n",
    "endpoint = f\"{airtable_base_url}/{BASE_ID}/{TABLE_ID}\"\n",
    "\n",
    "print(endpoint)"
   ]
  },
  {
   "cell_type": "code",
   "execution_count": null,
   "id": "010fa17c",
   "metadata": {},
   "outputs": [],
   "source": [
    "datos_modificar = {\"records\" : [{\"id\" : x, \"fields\" : {}} for x in records_id[:10]]}\n",
    "pprint(datos_modificar)"
   ]
  },
  {
   "cell_type": "code",
   "execution_count": null,
   "id": "4c495875",
   "metadata": {},
   "outputs": [],
   "source": [
    "for i in range(len(datos_modificar[\"records\"])):\n",
    "    \n",
    "    for col in [\"nombres\", \"descripciones\", \"categorias\"]:\n",
    "        \n",
    "        datos_modificar[\"records\"][i][\"fields\"][col] = \"HOLA ESTAMOS CAMBIANDO LOS DATOS DE ESTA RECETA\"\n",
    "    \n",
    "pprint(datos_modificar)"
   ]
  },
  {
   "cell_type": "code",
   "execution_count": null,
   "id": "2f280425",
   "metadata": {
    "scrolled": true
   },
   "outputs": [],
   "source": [
    "response = requests.patch(url = endpoint, json = datos_modificar, headers = headers)\n",
    "\n",
    "print(f\"response: {response.status_code}\")\n",
    "\n",
    "print(f\"endpoint: {response.url}\")\n",
    "\n",
    "print(\"-\"*120)\n",
    "\n",
    "pprint(response.json(), sort_dicts = False)\n",
    "\n",
    "print(\"-\"*120)"
   ]
  },
  {
   "cell_type": "markdown",
   "id": "388fd7ff",
   "metadata": {},
   "source": [
    "### 05. Delete Records\n",
    "\n",
    "```html\n",
    "endpoint: https://api.airtable.com/v0/{BASE_ID}/{TABLE_ID}\n",
    "HTTP method: DELETE\n",
    "```\n",
    "\n",
    "**Notas de la documentación**:\n",
    "```html\n",
    "Your request should include a URL-encoded array of up to 10 record IDs to delete.\n",
    "```\n",
    "\n",
    "**Estructura de los datos**:\n",
    "```python\n",
    "'records[]=id&records[]=id&records[]=id&records[]=id&records[]=id&records[]=id&records[]=id&records[]=id&records[]=id&records[]=id'\n",
    "```"
   ]
  },
  {
   "cell_type": "code",
   "execution_count": null,
   "id": "787e4b53",
   "metadata": {},
   "outputs": [],
   "source": [
    "# Delete Records\n",
    "\n",
    "# Endpoint\n",
    "endpoint = f\"{airtable_base_url}/{BASE_ID}/{TABLE_ID}\"\n",
    "\n",
    "print(endpoint)"
   ]
  },
  {
   "cell_type": "code",
   "execution_count": null,
   "id": "1c88b007",
   "metadata": {},
   "outputs": [],
   "source": [
    "# url-encoded\n",
    "\n",
    "params = \"&\".join([f\"records[]={id_}\" for id_ in records_id[:10]])\n",
    "params"
   ]
  },
  {
   "cell_type": "code",
   "execution_count": null,
   "id": "569462c1",
   "metadata": {},
   "outputs": [],
   "source": [
    "response = requests.delete(url = endpoint, params = params, headers = headers)\n",
    "\n",
    "print(f\"response: {response.status_code}\")\n",
    "\n",
    "print(f\"endpoint: {response.url}\")\n",
    "\n",
    "print(\"-\"*120)\n",
    "\n",
    "pprint(response.json(), sort_dicts = False)\n",
    "\n",
    "print(\"-\"*120)"
   ]
  },
  {
   "cell_type": "markdown",
   "id": "5e6613fe",
   "metadata": {},
   "source": [
    "### 06. Delete a Record\n",
    "\n",
    "```html\n",
    "endpoint: https://api.airtable.com/v0/{BASE_ID}/{TABLE_ID}/{RECORD_ID}\n",
    "HTTP method: DELETE\n",
    "```"
   ]
  },
  {
   "cell_type": "code",
   "execution_count": null,
   "id": "378de4d1",
   "metadata": {},
   "outputs": [],
   "source": [
    "# Delete a Record\n",
    "\n",
    "# Endpoint\n",
    "\n",
    "RECORD_ID = records_id[-1]\n",
    "endpoint = f\"{airtable_base_url}/{BASE_ID}/{TABLE_ID}/{RECORD_ID}\"\n",
    "\n",
    "print(endpoint)"
   ]
  },
  {
   "cell_type": "code",
   "execution_count": null,
   "id": "bfea117f",
   "metadata": {},
   "outputs": [],
   "source": [
    "response = requests.delete(url = endpoint, headers = headers)\n",
    "\n",
    "print(f\"response: {response.status_code}\")\n",
    "\n",
    "print(f\"endpoint: {response.url}\")\n",
    "\n",
    "print(\"-\"*120)\n",
    "\n",
    "pprint(response.json(), sort_dicts = False)\n",
    "\n",
    "print(\"-\"*120)"
   ]
  },
  {
   "cell_type": "code",
   "execution_count": null,
   "id": "301f2165",
   "metadata": {},
   "outputs": [],
   "source": [
    "################################################################################################################################"
   ]
  }
 ],
 "metadata": {
  "kernelspec": {
   "display_name": "Python 3 (ipykernel)",
   "language": "python",
   "name": "python3"
  },
  "language_info": {
   "codemirror_mode": {
    "name": "ipython",
    "version": 3
   },
   "file_extension": ".py",
   "mimetype": "text/x-python",
   "name": "python",
   "nbconvert_exporter": "python",
   "pygments_lexer": "ipython3",
   "version": "3.12.3"
  }
 },
 "nbformat": 4,
 "nbformat_minor": 5
}
