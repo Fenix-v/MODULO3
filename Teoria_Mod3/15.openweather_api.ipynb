{
 "cells": [
  {
   "cell_type": "markdown",
   "id": "9c756d26",
   "metadata": {},
   "source": [
    "## OpenWeatherMap API\n",
    "\n",
    "OpenWeatherMap es un servicio en línea que proporciona datos meteorológicos globales a través de una API, incluyendo datos meteorológicos actuales, pronósticos, pronósticos inmediatos y datos históricos para cualquier ubicación geográfica.\n",
    "\n",
    "**_Documentación_**: https://openweathermap.org/api\n",
    "\n",
    "### Current\n",
    "\n",
    "Es un servicio que retorna datos meteorológicos actuales de un punto usando latitud y longitud.\n",
    "\n",
    "**_Documentación_**: https://openweathermap.org/current\n",
    "```html\n",
    "endpoint: https://api.openweathermap.org/data/2.5/weather\n",
    "```\n",
    "\n",
    "`Params:`\n",
    "\n",
    "- **lat, lon** : _required_ : Geographical coordinates (latitude, longitude). If you need the geocoder to automatic convert city names and zip-codes to geo coordinates and the other way around, please use our Geocoding API.\n",
    "\n",
    "\n",
    "- **appid** : _required_ : Your unique API key (you can always find it on your account page under the \"API key\" tab).\n",
    "\n",
    "\n",
    "- **mode** : _optional_ : Response format. Possible values are xml and html. If you don't use the mode parameter format is JSON by default.\n",
    "\n",
    "\n",
    "- **units** :  _optional_ : Units of measurement. standard, **metric** and imperial units are available. If you do not use the units parameter, standard units will be applied by default.\n",
    "\n",
    "\n",
    "- **lang** : _optional_ : You can use this parameter to get the output in your language."
   ]
  },
  {
   "cell_type": "code",
   "execution_count": null,
   "id": "bf9bb3f2",
   "metadata": {},
   "outputs": [],
   "source": [
    "import numpy as np\n",
    "import pandas as pd\n",
    "import matplotlib # Para ver la versión\n",
    "import matplotlib.pyplot as plt\n",
    "import seaborn as sns\n",
    "\n",
    "import plotly # Para ver la versión\n",
    "import plotly.express as px\n",
    "\n",
    "import requests\n",
    "\n",
    "from datetime import datetime\n",
    "from time import sleep\n",
    "\n",
    "from pprint import pprint"
   ]
  },
  {
   "cell_type": "code",
   "execution_count": null,
   "id": "02d011d8-a7a6-45a5-826f-ecec5e66849c",
   "metadata": {},
   "outputs": [],
   "source": [
    "# Versiones\n",
    "\n",
    "print(f\"numpy=={np.__version__}\")\n",
    "print(f\"pandas=={pd.__version__}\")\n",
    "print(f\"matplotlib=={matplotlib.__version__}\")\n",
    "print(f\"sns=={sns.__version__}\")\n",
    "print(f\"plotly=={plotly.__version__}\")\n",
    "print(f\"requests=={requests.__version__}\")"
   ]
  },
  {
   "cell_type": "code",
   "execution_count": null,
   "id": "42e68e9b",
   "metadata": {},
   "outputs": [],
   "source": [
    "api_key = \"cd31574dc65a379909d4f921033a7e96\"\n",
    "\n",
    "lat, lon = 40.416775, -3.703790 # Madrid, Spain\n",
    "\n",
    "endpoint = f\"https://api.openweathermap.org/data/2.5/weather?lat={lat}&lon={lon}&appid={api_key}\"\n",
    "\n",
    "response = requests.get(url = endpoint)\n",
    "\n",
    "data = response.json()\n",
    "\n",
    "pprint(data)"
   ]
  },
  {
   "cell_type": "code",
   "execution_count": null,
   "id": "452f144d",
   "metadata": {},
   "outputs": [],
   "source": [
    "# Usando un diccionario como parámetros\n",
    "\n",
    "params = {\"appid\" : api_key,\n",
    "          \"lat\"   : lat,\n",
    "          \"lon\"   : lon,\n",
    "          \"units\" : \"metric\"}\n",
    "\n",
    "endpoint = f\"https://api.openweathermap.org/data/2.5/weather\"\n",
    "\n",
    "response = requests.get(url = endpoint, params = params)\n",
    "\n",
    "data = response.json()\n",
    "\n",
    "pprint(data, sort_dicts = False)"
   ]
  },
  {
   "cell_type": "code",
   "execution_count": null,
   "id": "4ee6368c",
   "metadata": {},
   "outputs": [],
   "source": [
    "response.url"
   ]
  },
  {
   "cell_type": "code",
   "execution_count": null,
   "id": "09dec5c1",
   "metadata": {},
   "outputs": [],
   "source": [
    "def get_current_weather(lat, lon, api_key):\n",
    "    \n",
    "    params = {\"appid\" : api_key,\n",
    "              \"lat\"   : lat,\n",
    "              \"lon\"   : lon,\n",
    "              \"units\" : \"metric\"}\n",
    "\n",
    "    endpoint = f\"https://api.openweathermap.org/data/2.5/weather\"\n",
    "\n",
    "    response = requests.get(url = endpoint, params = params)\n",
    "\n",
    "    return response.json()"
   ]
  },
  {
   "cell_type": "code",
   "execution_count": null,
   "id": "c9894832",
   "metadata": {},
   "outputs": [],
   "source": [
    "# Lat & Lon de capitales de España\n",
    "\n",
    "df = pd.read_html(io = \"https://www.ign.es/web/ane-datos-geograficos/-/datos-geograficos/datosPoblacion?tipoBusqueda=capitales\")\n",
    "\n",
    "df = df[1]\n",
    "\n",
    "# Lat & Lon\n",
    "df[\"Lat ETRS89\"] = df[\"Lat ETRS89\"]/100_000_000\n",
    "df[\"Lon ETRS89\"] = df[\"Lon ETRS89\"]/100_000_000\n",
    "\n",
    "# Renombrar columnas\n",
    "df.rename(mapper  = {col : col.split(\" \")[0] for col in df.columns if \"ETRS89\" in col},\n",
    "          axis    = 1,\n",
    "          inplace = True)\n",
    "\n",
    "weather_data = list()\n",
    "\n",
    "for lat, lon in df[[\"Lat\", \"Lon\"]].values:\n",
    "\n",
    "    data = get_current_weather(lat = lat, lon = lon, api_key = api_key)\n",
    "\n",
    "    try:\n",
    "        description = data[\"weather\"][0][\"description\"]\n",
    "        temp        = data[\"main\"][\"temp\"]\n",
    "        feels_like  = data[\"main\"][\"feels_like\"]\n",
    "        temp_min    = data[\"main\"][\"temp_min\"]\n",
    "        temp_max    = data[\"main\"][\"temp_max\"]\n",
    "        pressure    = data[\"main\"][\"pressure\"]\n",
    "        humidity    = data[\"main\"][\"humidity\"]\n",
    "        wind_speed  = data[\"wind\"][\"speed\"]\n",
    "        dt          = data[\"dt\"]\n",
    "        lat         = data[\"coord\"][\"lat\"]\n",
    "        lon         = data[\"coord\"][\"lon\"]\n",
    "        name        = data[\"name\"]\n",
    "\n",
    "        weather_data.append([name, description, temp, feels_like, temp_min, \n",
    "                             temp_max, pressure, humidity, wind_speed, dt, lat, lon])\n",
    "    except:\n",
    "        pass\n",
    "\n",
    "    sleep(0.1)\n",
    "\n",
    "df_weather = pd.DataFrame(data   = weather_data,\n",
    "                         columns = [\"capital\", \"description\", \"temp\", \"feels_like\", \"temp_min\",\n",
    "                                    \"temp_max\", \"pressure\", \"humidity\", \"wind_speed\", \"dt\", \"lat\", \"lon\"])\n",
    "\n",
    "df_weather"
   ]
  },
  {
   "cell_type": "markdown",
   "id": "d4b1b3e0",
   "metadata": {},
   "source": [
    "### Air Pollution (Historical)\n",
    "\n",
    "_**Documentación:**_ https://openweathermap.org/api/air-pollution\n",
    "\n",
    "```html\n",
    "endpoint: http://api.openweathermap.org/data/2.5/air_pollution/history\n",
    "```\n",
    "\n",
    "Air Pollution API proporciona datos actuales, pronósticos e históricos sobre la contaminación del aire para cualquier coordenada.\n",
    "\n",
    "Además del Índice de Calidad del Aire (Air Quality Index - **aqi**) básico, la API devuelve datos sobre gases contaminantes, como:\n",
    "\n",
    "- Carbono monóxido (**CO**)\n",
    "- Nitrogeno monóxido (**NO**)\n",
    "- Dióxido de nitrógeno (**NO2**)\n",
    "- Ozono (**O3**)\n",
    "- Dióxido de azufre (**SO2**)\n",
    "- Amoniaco (**NH3**)\n",
    "- Partículas (**PM2.5** y **PM10**)\n",
    "\n",
    "\n",
    "| Qualitative name | Index | SO2 (μg/m3)       | NO2 (μg/m3)       | PM10 (μg/m3)      | PM2.5 (μg/m3)     | O3 (μg/m3)        | CO (μg/m3)           |\n",
    "|------------------|-------|------------|------------|------------|------------|------------|---------------|\n",
    "| Good             | 1     | [0; 20)    | [0; 40)    | [0; 20)    | [0; 10)    | [0; 60)    | [0; 4400)     |\n",
    "| Fair             | 2     | [20; 80)   | [40; 70)   | [20; 50)   | [10; 25)   | [60; 100)  | [4400; 9400)  |\n",
    "| Moderate         | 3     | [80; 250)  | [70; 150)  | [50; 100)  | [25; 50)   | [100; 140) | [9400-12400)  |\n",
    "| Poor             | 4     | [250; 350) | [150; 200) | [100; 200) | [50; 75)   | [140; 180) | [12400; 15400)|\n",
    "| Very Poor        | 5     | ⩾350       | ⩾200       | ⩾200      | ⩾75        | ⩾180       | ⩾15400       |\n",
    "\n",
    "\n",
    "`Params:`\n",
    "- **lat, lon** : _required_ :\tGeographical coordinates (latitude, longitude). If you need the geocoder to automatic convert city names and zip-codes to geo coordinates and the other way around, please use our Geocoding API.\n",
    "\n",
    "\n",
    "- **appid** : _required_ : Your unique API key (you can always find it on your account page under the \"API key\" tab)\n",
    "\n",
    "\n",
    "- **start** : _optional_ : Start date (unix time, UTC time zone), e.g. start=1369728000\n",
    "\n",
    "\n",
    "- **end** : _optional_ : End date (unix time, UTC time zone), e.g. end=1369789200"
   ]
  },
  {
   "cell_type": "code",
   "execution_count": null,
   "id": "c2de8135",
   "metadata": {},
   "outputs": [],
   "source": [
    "start = int(datetime(2023, 1, 1).timestamp()) # 2023-01-01\n",
    "\n",
    "end = int(datetime.now().timestamp()) # Hoy\n",
    "\n",
    "print(f\"start: {start}\\nend: {end}\")"
   ]
  },
  {
   "cell_type": "code",
   "execution_count": null,
   "id": "91943ff1",
   "metadata": {},
   "outputs": [],
   "source": [
    "params = {\"appid\" : api_key,\n",
    "          \"lat\"   : lat,\n",
    "          \"lon\"   : lon,\n",
    "          \"start\" : start,\n",
    "          \"end\"   : end}\n",
    "\n",
    "endpoint = \"http://api.openweathermap.org/data/2.5/air_pollution/history\"\n",
    "\n",
    "response = requests.get(url = endpoint, params = params)\n",
    "\n",
    "data = response.json()\n",
    "\n",
    "pprint(data)"
   ]
  },
  {
   "cell_type": "code",
   "execution_count": null,
   "id": "dcb0fcca",
   "metadata": {},
   "outputs": [],
   "source": [
    "df_air = pd.json_normalize(data[\"list\"])\n",
    "\n",
    "df_air"
   ]
  },
  {
   "cell_type": "code",
   "execution_count": null,
   "id": "375f64e1",
   "metadata": {},
   "outputs": [],
   "source": [
    "# Renombramos las columnas\n",
    "\n",
    "df_air.rename(mapper  = {x : x.split(\".\")[1] for x in df_air.columns[1:]},\n",
    "              axis    = 1,\n",
    "              inplace = True)"
   ]
  },
  {
   "cell_type": "code",
   "execution_count": null,
   "id": "529d6608",
   "metadata": {},
   "outputs": [],
   "source": [
    "df_air"
   ]
  },
  {
   "cell_type": "code",
   "execution_count": null,
   "id": "91696dfd",
   "metadata": {},
   "outputs": [],
   "source": [
    "# Timestamp a datetime\n",
    "\n",
    "df_air[\"dt\"] = df_air[\"dt\"].apply(lambda x : datetime.fromtimestamp(x))\n",
    "\n",
    "df_air"
   ]
  },
  {
   "cell_type": "code",
   "execution_count": null,
   "id": "3d9871cf",
   "metadata": {},
   "outputs": [],
   "source": [
    "px.line(data_frame = df_air,\n",
    "        x          = \"dt\",\n",
    "        y          = \"no2\")"
   ]
  },
  {
   "cell_type": "code",
   "execution_count": null,
   "id": "c21cdf3d",
   "metadata": {},
   "outputs": [],
   "source": [
    "df_air[\"day_of_year\"] = df_air[\"dt\"].apply(lambda x : x.strftime(\"%Y-%m-%d\"))\n",
    "\n",
    "df_air.head()"
   ]
  },
  {
   "cell_type": "code",
   "execution_count": null,
   "id": "bdbf17aa",
   "metadata": {},
   "outputs": [],
   "source": [
    "df_air2 = df_air.groupby(\"day_of_year\", as_index = False).agg({col : \"mean\" for col in df_air.columns[1:-1]})\n",
    "\n",
    "df_air2"
   ]
  },
  {
   "cell_type": "code",
   "execution_count": null,
   "id": "1d0c745a",
   "metadata": {},
   "outputs": [],
   "source": [
    "# Line plot: media de valores de componentes por día\n",
    "\n",
    "fig = px.line(data_frame = df_air2,\n",
    "              x          = \"day_of_year\",\n",
    "              y          = df_air2.columns[1:])\n",
    "\n",
    "fig.show()"
   ]
  },
  {
   "cell_type": "code",
   "execution_count": null,
   "id": "f4057c21",
   "metadata": {},
   "outputs": [],
   "source": [
    "df_air[\"hour\"] = df_air[\"dt\"].apply(lambda x : x.hour)\n",
    "\n",
    "df_air"
   ]
  },
  {
   "cell_type": "code",
   "execution_count": null,
   "id": "92d11524",
   "metadata": {
    "scrolled": true
   },
   "outputs": [],
   "source": [
    "df_air3 = df_air.groupby(\"hour\", as_index = False).agg({col : \"mean\" for col in df_air.columns[1:-2]})\n",
    "\n",
    "df_air3"
   ]
  },
  {
   "cell_type": "code",
   "execution_count": null,
   "id": "1c973cd2",
   "metadata": {},
   "outputs": [],
   "source": [
    "# Area plot: media de componentes agrupados por hora\n",
    "fig = px.area(data_frame = df_air3,\n",
    "              x          = \"hour\",\n",
    "              y          = df_air3.columns[1:])\n",
    "\n",
    "fig.show()"
   ]
  },
  {
   "cell_type": "code",
   "execution_count": null,
   "id": "45f5aab5",
   "metadata": {},
   "outputs": [],
   "source": [
    "# Boxplot\n",
    "\n",
    "fig = px.box(data_frame = df_air,\n",
    "             x          = \"hour\",\n",
    "             y          = df_air.columns[2],\n",
    "             hover_data = [\"day_of_year\"])\n",
    "\n",
    "fig.show()"
   ]
  },
  {
   "cell_type": "code",
   "execution_count": null,
   "id": "36a232f3",
   "metadata": {},
   "outputs": [],
   "source": [
    "################################################################################################################################"
   ]
  }
 ],
 "metadata": {
  "kernelspec": {
   "display_name": "Python 3 (ipykernel)",
   "language": "python",
   "name": "python3"
  },
  "language_info": {
   "codemirror_mode": {
    "name": "ipython",
    "version": 3
   },
   "file_extension": ".py",
   "mimetype": "text/x-python",
   "name": "python",
   "nbconvert_exporter": "python",
   "pygments_lexer": "ipython3",
   "version": "3.12.3"
  }
 },
 "nbformat": 4,
 "nbformat_minor": 5
}
