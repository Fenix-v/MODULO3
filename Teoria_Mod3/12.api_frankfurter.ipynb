{
 "cells": [
  {
   "cell_type": "markdown",
   "id": "514c7348",
   "metadata": {},
   "source": [
    "## Frankfurter\n",
    "**Frankfurter** es una **API** de código abierto para tipos de cambio actuales e históricos publicados por el Banco Central Europeo (**European Central Bank**).\n",
    "\n",
    "\n",
    "**_Documentación:_** https://www.frankfurter.app/docs/\n",
    "\n",
    "### Endpoints\n",
    "\n",
    "Para hacer llamadas a la **API** debemos usar la base del **endpoint**:\n",
    "\n",
    "```html\n",
    "https://api.frankfurter.app/\n",
    "\n",
    "```\n",
    "\n",
    "Y sobre esta base agregamos los parámetros para hacer la consulta:\n",
    "\n",
    "```html\n",
    "https://api.frankfurter.app/2000-01-01\n",
    "```\n",
    "\n",
    "Si la consulta tiene los parámetros correctos y tenemos los permisos para hacerla, tendremos una respuesta de 200, esto quiere decir que logramos comunicarnos con el **API** correctamente.\n",
    "\n",
    "\n",
    "Con esta **API** podemos extraer los datos históricos de los tipos de cambio en Europa y también podremos hacer uso de un conversor de monedas integrado en la **API**."
   ]
  },
  {
   "cell_type": "code",
   "execution_count": null,
   "id": "d5581f5f",
   "metadata": {},
   "outputs": [],
   "source": [
    "import numpy as np\n",
    "import pandas as pd\n",
    "\n",
    "import requests\n",
    "\n",
    "from pprint import pprint"
   ]
  },
  {
   "cell_type": "code",
   "execution_count": null,
   "id": "3ec19b1e-14bc-49fc-86ea-8941c01be7f7",
   "metadata": {},
   "outputs": [],
   "source": [
    "# Versiones\n",
    "\n",
    "print(f\"numpy=={np.__version__}\")\n",
    "print(f\"pandas=={pd.__version__}\")\n",
    "print(f\"requests=={requests.__version__}\")"
   ]
  },
  {
   "cell_type": "code",
   "execution_count": null,
   "id": "f2ca68c8",
   "metadata": {},
   "outputs": [],
   "source": [
    "url = \"https://api.frankfurter.app\""
   ]
  },
  {
   "cell_type": "code",
   "execution_count": null,
   "id": "5bc389ae",
   "metadata": {},
   "outputs": [],
   "source": [
    "response = requests.get(url)"
   ]
  },
  {
   "cell_type": "code",
   "execution_count": null,
   "id": "76cf2833",
   "metadata": {},
   "outputs": [],
   "source": [
    "print(response)"
   ]
  },
  {
   "cell_type": "code",
   "execution_count": null,
   "id": "5c603192",
   "metadata": {},
   "outputs": [],
   "source": [
    "response.json()"
   ]
  },
  {
   "cell_type": "markdown",
   "id": "545a3af6",
   "metadata": {},
   "source": [
    "Si no usamos ningún parámetro el **API** no nos retornará información. Veamos ahora como agregar parámetros y extraer información."
   ]
  },
  {
   "cell_type": "code",
   "execution_count": null,
   "id": "1279d9c1",
   "metadata": {},
   "outputs": [],
   "source": [
    "url = \"https://api.frankfurter.app\"\n",
    "\n",
    "date = \"2000-01-01\"\n",
    "\n",
    "endpoint = f\"{url}/{date}\"\n",
    "\n",
    "print(f\"Endpoint: {endpoint}\")\n",
    "\n",
    "response = requests.get(endpoint)\n",
    "\n",
    "response.json()"
   ]
  },
  {
   "cell_type": "code",
   "execution_count": null,
   "id": "e382f34e",
   "metadata": {},
   "outputs": [],
   "source": [
    "# Con pprint\n",
    "pprint(response.json())"
   ]
  },
  {
   "cell_type": "code",
   "execution_count": null,
   "id": "983a23f6",
   "metadata": {},
   "outputs": [],
   "source": [
    "# Para agregar un rango de fechas podemos unir las dos fechas con \"..\"\n",
    "\n",
    "url = \"https://api.frankfurter.app\"\n",
    "\n",
    "date_1 = \"2010-01-01\"\n",
    "date_2 = \"2010-01-31\"\n",
    "\n",
    "endpoint = f\"{url}/{date_1}..{date_2}\"\n",
    "\n",
    "print(f\"Endpoint: {endpoint}\")\n",
    "\n",
    "response = requests.get(endpoint)\n",
    "\n",
    "response.json()"
   ]
  },
  {
   "cell_type": "code",
   "execution_count": null,
   "id": "885b57d4",
   "metadata": {},
   "outputs": [],
   "source": [
    "# Con pprint\n",
    "\n",
    "pprint(response.json())"
   ]
  },
  {
   "cell_type": "code",
   "execution_count": null,
   "id": "9be5c443",
   "metadata": {},
   "outputs": [],
   "source": [
    "# Para retornar los tipos de cambio del día de hoy tenemos un endpoint \n",
    "\n",
    "endpoint = f\"{url}/latest\"\n",
    "\n",
    "print(f\"Endpoint: {endpoint}\")\n",
    "\n",
    "response = requests.get(endpoint)\n",
    "\n",
    "response.json()"
   ]
  },
  {
   "cell_type": "code",
   "execution_count": null,
   "id": "62c6a29c",
   "metadata": {},
   "outputs": [],
   "source": [
    "# Y si quisieramos retornar los tipos de cambio desde cierta fecha hasta el día de hoy\n",
    "\n",
    "url = \"https://api.frankfurter.app\"\n",
    "\n",
    "date_1 = \"2010-01-01\"\n",
    "\n",
    "endpoint = f\"{url}/{date_1}..\"\n",
    "\n",
    "print(f\"Endpoint: {endpoint}\")\n",
    "\n",
    "response = requests.get(endpoint)\n",
    "\n",
    "response.json()"
   ]
  },
  {
   "cell_type": "code",
   "execution_count": null,
   "id": "8d4aaa3f",
   "metadata": {},
   "outputs": [],
   "source": [
    "pprint(response.json())"
   ]
  },
  {
   "cell_type": "markdown",
   "id": "55a5af07",
   "metadata": {},
   "source": [
    "En la documentación de **Frankfurter** dice:\n",
    "\n",
    "**Frankfurter returns all data points for up to 90 days. Above that, it starts sampling by week or month based on the breadth of the date range.**\n",
    "\n",
    "Lo que significa que si hacemos una consulta con muchas fechas el **API** automaticamente reducirá el número de fechas acorde al total para no retornar demasiadas."
   ]
  },
  {
   "cell_type": "code",
   "execution_count": null,
   "id": "e6f16af6",
   "metadata": {},
   "outputs": [],
   "source": [
    "# Total de fechas de la consulta anterior\n",
    "\n",
    "len(response.json()[\"rates\"].keys())\n",
    "\n",
    "# La consulta anterior tenia fecha de comienzo el 2010-01-01 y terminaba el día de hoy"
   ]
  },
  {
   "cell_type": "code",
   "execution_count": null,
   "id": "c6cc8583",
   "metadata": {},
   "outputs": [],
   "source": [
    "# Fechas de la consulta\n",
    "\n",
    "sorted(response.json()[\"rates\"].keys())"
   ]
  },
  {
   "cell_type": "code",
   "execution_count": null,
   "id": "ffbab0ef",
   "metadata": {},
   "outputs": [],
   "source": [
    "# Usando la API también podemos comparar los euros con alguna otra moneda usando el parámetro \"to\"\n",
    "\n",
    "url = \"https://api.frankfurter.app\"\n",
    "\n",
    "to_conversion = \"GBP\"\n",
    "\n",
    "endpoint = f\"{url}/latest?to={to_conversion}\"\n",
    "\n",
    "print(f\"Endpoint: {endpoint}\")\n",
    "\n",
    "response = requests.get(endpoint)\n",
    "\n",
    "pprint(response.json())"
   ]
  },
  {
   "cell_type": "code",
   "execution_count": null,
   "id": "2c15cfc9",
   "metadata": {},
   "outputs": [],
   "source": [
    "# Y también podemos combinar los parámetros\n",
    "\n",
    "url = \"https://api.frankfurter.app\"\n",
    "\n",
    "date_1 = \"2010-01-01\"\n",
    "date_2 = \"2010-01-31\"\n",
    "\n",
    "to_conversion = \"GBP,USD\"\n",
    "\n",
    "endpoint = f\"{url}/{date_1}..{date_2}?to={to_conversion}\"\n",
    "\n",
    "print(f\"Endpoint: {endpoint}\")\n",
    "\n",
    "response = requests.get(endpoint)\n",
    "\n",
    "pprint(response.json())"
   ]
  },
  {
   "cell_type": "markdown",
   "id": "904a67fc",
   "metadata": {},
   "source": [
    "### Currencies"
   ]
  },
  {
   "cell_type": "code",
   "execution_count": null,
   "id": "094d15b6",
   "metadata": {},
   "outputs": [],
   "source": [
    "# Endpoint especial para obtener las monedas que usan en Frankfurter y su significado\n",
    "\n",
    "url = \"https://api.frankfurter.app\"\n",
    "\n",
    "endpoint = f\"{url}/currencies\"\n",
    "\n",
    "print(f\"Endpoint: {endpoint}\")\n",
    "\n",
    "response = requests.get(endpoint)\n",
    "\n",
    "pprint(response.json())"
   ]
  },
  {
   "cell_type": "code",
   "execution_count": null,
   "id": "5a9842fa",
   "metadata": {
    "scrolled": true
   },
   "outputs": [],
   "source": [
    "df_currencies = pd.DataFrame(response.json().items(), columns = [\"abr\", \"currency\"])\n",
    "\n",
    "df_currencies"
   ]
  },
  {
   "cell_type": "markdown",
   "id": "68f8930a",
   "metadata": {},
   "source": [
    "### Conversion"
   ]
  },
  {
   "cell_type": "code",
   "execution_count": null,
   "id": "8a432cef",
   "metadata": {},
   "outputs": [],
   "source": [
    "# Podemos usar Frankfurter como una calculadora de conversión de monedas\n",
    "# Podemos hacer la conversión de una sola fecha\n",
    "\n",
    "url = \"https://api.frankfurter.app\"\n",
    "\n",
    "amount = 10\n",
    "\n",
    "from_currency = \"USD\"\n",
    "\n",
    "to_currency = \"GBP\"\n",
    "\n",
    "endpoint = f\"{url}/latest?amount={amount}&from={from_currency}&to={to_currency}\"\n",
    "\n",
    "print(f\"Endpoint: {endpoint}\")\n",
    "\n",
    "response = requests.get(endpoint)\n",
    "\n",
    "pprint(response.json())"
   ]
  },
  {
   "cell_type": "code",
   "execution_count": null,
   "id": "5c40e0a4",
   "metadata": {},
   "outputs": [],
   "source": [
    "# O de muchas fechas\n",
    "\n",
    "url = \"https://api.frankfurter.app\"\n",
    "\n",
    "amount = 10\n",
    "\n",
    "from_currency = \"USD\"\n",
    "\n",
    "to_currency = \"GBP\"\n",
    "\n",
    "date_1 = \"2010-01-01\"\n",
    "date_2 = \"2010-01-31\"\n",
    "\n",
    "endpoint = f\"{url}/{date_1}..{date_2}?amount={amount}&from={from_currency}&to={to_currency}\"\n",
    "\n",
    "print(f\"Endpoint: {endpoint}\")\n",
    "\n",
    "response = requests.get(endpoint)\n",
    "\n",
    "pprint(response.json())"
   ]
  },
  {
   "cell_type": "markdown",
   "id": "be6737e1",
   "metadata": {},
   "source": [
    "### Ejemplo: Evolución del EUR comparado con USD\n",
    "\n",
    "Vamos a hacer una gráfica que muestre la evolución del euro comparado con el dolar este año."
   ]
  },
  {
   "cell_type": "code",
   "execution_count": null,
   "id": "bdb79a3a",
   "metadata": {},
   "outputs": [],
   "source": [
    "url = \"https://api.frankfurter.app\"\n",
    "\n",
    "año = \"2023\"\n",
    "\n",
    "date = f\"{año}-01-01\"\n",
    "\n",
    "to_currency = \"USD\""
   ]
  },
  {
   "cell_type": "markdown",
   "id": "7f5c5046",
   "metadata": {},
   "source": [
    "#### 1. Primero debemos extraer los datos desde el primer día de este año hasta el día de hoy."
   ]
  },
  {
   "cell_type": "code",
   "execution_count": null,
   "id": "1c2d230b",
   "metadata": {},
   "outputs": [],
   "source": [
    "endpoint = f\"{url}/{date}..?to={to_currency}\"\n",
    "\n",
    "print(f\"Endpoint: {endpoint}\")\n",
    "\n",
    "response = requests.get(endpoint)\n",
    "\n",
    "pprint(response.json())\n",
    "\n",
    "data = response.json()"
   ]
  },
  {
   "cell_type": "markdown",
   "id": "83e5e882",
   "metadata": {},
   "source": [
    "#### 2. Vamos a manipular los datos para tenerlos en una lista o array."
   ]
  },
  {
   "cell_type": "code",
   "execution_count": null,
   "id": "61adcc4d",
   "metadata": {},
   "outputs": [],
   "source": [
    "from datetime import datetime"
   ]
  },
  {
   "cell_type": "code",
   "execution_count": null,
   "id": "d0a665eb",
   "metadata": {
    "scrolled": true
   },
   "outputs": [],
   "source": [
    "data[\"rates\"]"
   ]
  },
  {
   "cell_type": "code",
   "execution_count": null,
   "id": "29fe8f0a",
   "metadata": {
    "scrolled": true
   },
   "outputs": [],
   "source": [
    "fechas = list(data[\"rates\"].keys())\n",
    "\n",
    "fechas = [datetime.strptime(fecha, \"%Y-%m-%d\") for fecha in fechas]\n",
    "\n",
    "fechas"
   ]
  },
  {
   "cell_type": "code",
   "execution_count": null,
   "id": "3b49805d",
   "metadata": {},
   "outputs": [],
   "source": [
    "# [x[to_currency] for x in data[\"rates\"].values()]"
   ]
  },
  {
   "cell_type": "code",
   "execution_count": null,
   "id": "0ccf0d9d",
   "metadata": {},
   "outputs": [],
   "source": [
    "dolares = [data[\"rates\"][fecha][to_currency] for fecha in data[\"rates\"].keys()]\n",
    "\n",
    "dolares"
   ]
  },
  {
   "cell_type": "code",
   "execution_count": null,
   "id": "3e49e6c1",
   "metadata": {},
   "outputs": [],
   "source": [
    "# dolares = list()\n",
    "\n",
    "# for x in data[\"rates\"].values():\n",
    "    \n",
    "#     dolares.append(x[\"USD\"])\n",
    "    \n",
    "# dolares"
   ]
  },
  {
   "cell_type": "markdown",
   "id": "67debb9b",
   "metadata": {},
   "source": [
    "#### 3. Visualización"
   ]
  },
  {
   "cell_type": "code",
   "execution_count": null,
   "id": "ec42ffe0",
   "metadata": {},
   "outputs": [],
   "source": [
    "import matplotlib.pyplot as plt"
   ]
  },
  {
   "cell_type": "code",
   "execution_count": null,
   "id": "a90608af",
   "metadata": {},
   "outputs": [],
   "source": [
    "max(dolares)"
   ]
  },
  {
   "cell_type": "code",
   "execution_count": null,
   "id": "1e8ccf90",
   "metadata": {},
   "outputs": [],
   "source": [
    "np.argmax(dolares)"
   ]
  },
  {
   "cell_type": "code",
   "execution_count": null,
   "id": "ffff93f1",
   "metadata": {},
   "outputs": [],
   "source": [
    "fechas[np.argmax(dolares)]"
   ]
  },
  {
   "cell_type": "code",
   "execution_count": null,
   "id": "b9e8d39f",
   "metadata": {},
   "outputs": [],
   "source": [
    "fechas[52]"
   ]
  },
  {
   "cell_type": "code",
   "execution_count": null,
   "id": "3f69b8b6",
   "metadata": {},
   "outputs": [],
   "source": [
    "# Tamaño de la figura\n",
    "plt.figure(figsize = (18, 10))\n",
    "\n",
    "# Plot (función especial que trabaja con fechas)\n",
    "plt.plot_date(x = fechas, y = dolares, fmt = \"--\")\n",
    "\n",
    "# max\n",
    "plt.plot(fechas[np.argmax(dolares)],\n",
    "         np.max(dolares),\n",
    "         color      = \"green\",\n",
    "         marker     = \"o\",\n",
    "         markersize = 10,\n",
    "         label      = f\"max: {np.max(dolares)}\")\n",
    "\n",
    "# min\n",
    "plt.plot(fechas[np.argmin(dolares)],\n",
    "         np.min(dolares),\n",
    "         color      = \"red\",\n",
    "         marker     = \"o\",\n",
    "         markersize = 10,\n",
    "         label      = f\"min: {np.min(dolares)}\")\n",
    "\n",
    "# Evita que se sobrepongan las fechas\n",
    "plt.gcf().autofmt_xdate()\n",
    "\n",
    "# Etiquetas\n",
    "plt.legend()\n",
    "plt.xlabel(\"Fechas\", fontsize = 20)\n",
    "plt.ylabel(\"USD\", fontsize = 20)\n",
    "plt.title(\"Relación EUR - USD 2022\", fontsize = 20)\n",
    "\n",
    "plt.grid()\n",
    "plt.show()"
   ]
  },
  {
   "cell_type": "code",
   "execution_count": null,
   "id": "e7c86fc1",
   "metadata": {},
   "outputs": [],
   "source": [
    "print(f\"Max: {max(dolares)}\")\n",
    "print(f\"Min: {min(dolares)}\")"
   ]
  },
  {
   "cell_type": "markdown",
   "id": "57f26fb0",
   "metadata": {},
   "source": [
    "#### Plotly"
   ]
  },
  {
   "cell_type": "code",
   "execution_count": null,
   "id": "3c0a1033",
   "metadata": {},
   "outputs": [],
   "source": [
    "column_names = [\"date\", \"dolars\"]\n",
    "column_data = [fechas, dolares]\n",
    "\n",
    "dict_df = {name : data for name, data in zip(column_names, column_data)}\n",
    "\n",
    "# dict_df"
   ]
  },
  {
   "cell_type": "code",
   "execution_count": null,
   "id": "f2a434c4",
   "metadata": {
    "scrolled": true
   },
   "outputs": [],
   "source": [
    "df_dolares = pd.DataFrame(dict_df)\n",
    "\n",
    "df_dolares"
   ]
  },
  {
   "cell_type": "code",
   "execution_count": null,
   "id": "0e02d1ff",
   "metadata": {},
   "outputs": [],
   "source": [
    "import plotly.express as px\n",
    "\n",
    "px.line(data_frame = df_dolares,\n",
    "        x          = \"date\",\n",
    "        y          = \"dolars\",\n",
    "        title      = \"USD - EUR Relationship\")"
   ]
  },
  {
   "cell_type": "code",
   "execution_count": null,
   "id": "1765acc7",
   "metadata": {},
   "outputs": [],
   "source": [
    "################################################################################################################################"
   ]
  }
 ],
 "metadata": {
  "kernelspec": {
   "display_name": "Python 3 (ipykernel)",
   "language": "python",
   "name": "python3"
  },
  "language_info": {
   "codemirror_mode": {
    "name": "ipython",
    "version": 3
   },
   "file_extension": ".py",
   "mimetype": "text/x-python",
   "name": "python",
   "nbconvert_exporter": "python",
   "pygments_lexer": "ipython3",
   "version": "3.12.3"
  }
 },
 "nbformat": 4,
 "nbformat_minor": 5
}
