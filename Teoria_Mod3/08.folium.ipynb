{
 "cells": [
  {
   "cell_type": "markdown",
   "id": "8bcd5905",
   "metadata": {},
   "source": [
    "## Folium\n",
    "\n",
    "```python\n",
    "pip install folium\n",
    "```\n",
    "*__QuickStart__: https://python-visualization.github.io/folium/quickstart.html*\n",
    "\n",
    "*__Documentacion__: https://python-visualization.github.io/folium/modules.html*\n",
    "\n",
    "\n",
    "**`Folium`** es una poderosa biblioteca de python que nos ayuda a crear varios tipos de mapas. El hecho de que los resultados de Folium sean interactivos hace que esta biblioteca sea muy útil para la construcción de paneles.\n",
    "\n",
    "La generación del mapa mundial es muy sencilla en **`folium`**. Simplemente crea un objeto **`folium.map()`** y luego lo visualiza. Lo atractivo de los mapas **`folium`** es que son interactivos, por lo que puede acercarse a cualquier región de interés a pesar del nivel de zoom inicial."
   ]
  },
  {
   "cell_type": "code",
   "execution_count": null,
   "id": "b34cb997",
   "metadata": {},
   "outputs": [],
   "source": [
    "import numpy as np  \n",
    "import pandas as pd\n",
    "\n",
    "import folium"
   ]
  },
  {
   "cell_type": "code",
   "execution_count": null,
   "id": "a654215b",
   "metadata": {},
   "outputs": [],
   "source": [
    "# Versiones\n",
    "\n",
    "print(f\"numpy=={np.__version__}\")\n",
    "print(f\"pandas=={pd.__version__}\")\n",
    "print(f\"folium=={folium.__version__}\")"
   ]
  },
  {
   "cell_type": "code",
   "execution_count": null,
   "id": "601bccad",
   "metadata": {},
   "outputs": [],
   "source": [
    "# Crear el objeto mapa\n",
    "world_map = folium.Map()\n",
    "\n",
    "# Mostar el mapa\n",
    "world_map"
   ]
  },
  {
   "cell_type": "code",
   "execution_count": null,
   "id": "adbc4738",
   "metadata": {},
   "outputs": [],
   "source": [
    "type(world_map)"
   ]
  },
  {
   "cell_type": "markdown",
   "id": "6cbb355d",
   "metadata": {},
   "source": [
    "Todas las ubicaciones en un mapa están definidas por sus respectivos valores **Latitud** y **Longitud**. Por lo tanto, se puede crear un mapa y pasar un centro de valores de Latitud y Longitud, por ejemplo [40.4637, -3.7492].\n",
    "\n",
    "También se puede definir el nivel de **zoom** inicial en esa ubicación cuando se representa el mapa. **Cuanto más alto sea el nivel de zoom, más se acercará el mapa al centro.**"
   ]
  },
  {
   "cell_type": "code",
   "execution_count": null,
   "id": "236ce459",
   "metadata": {},
   "outputs": [],
   "source": [
    "# Creamos un mapa centrado en España con zoom igual a 6 \n",
    "world_map = folium.Map(location = [40.4637, -3.7492], zoom_start = 6)\n",
    "\n",
    "world_map"
   ]
  },
  {
   "cell_type": "code",
   "execution_count": null,
   "id": "76a41ae9",
   "metadata": {},
   "outputs": [],
   "source": [
    "# Creamos un mapa centrado en España con zoom igual a 8\n",
    "world_map = folium.Map(location = [40.4637, -3.7492], zoom_start = 8)\n",
    "\n",
    "world_map"
   ]
  },
  {
   "cell_type": "markdown",
   "id": "554c3244",
   "metadata": {},
   "source": [
    "## Tipos de mapas:\n",
    "\n",
    "1. **Stamen Toner Maps**: Estos son mapas en blanco y negro de alto contraste. Son perfecto para combinar datos y explorar ríos y zonas costeras."
   ]
  },
  {
   "cell_type": "code",
   "execution_count": null,
   "id": "c1007eaf",
   "metadata": {},
   "outputs": [],
   "source": [
    "# Stamen Toner Map\n",
    "world_map = folium.Map(location = [40.4637, -3.7492], zoom_start = 8, tiles = \"Stamen Toner\")\n",
    "\n",
    "world_map"
   ]
  },
  {
   "cell_type": "markdown",
   "id": "4def692f",
   "metadata": {},
   "source": [
    "2. **Stamen Terrain Maps**: Estos son mapas que presentan sombreado de colinas y colores de vegetación natural. Muestran el etiquetado avanzado y la generalización de líneas de carreteras de doble calzada."
   ]
  },
  {
   "cell_type": "code",
   "execution_count": null,
   "id": "f2d8eedb",
   "metadata": {},
   "outputs": [],
   "source": [
    "# Stamen Terrain Map\n",
    "world_map = folium.Map(location = [40.4637, -3.7492], zoom_start = 8, tiles = \"Stamen Terrain\")\n",
    "\n",
    "world_map"
   ]
  },
  {
   "cell_type": "markdown",
   "id": "827bebce",
   "metadata": {},
   "source": [
    "3. **Stamen Watercolor**: Mapa representado con estilo de \"acuarelas\"."
   ]
  },
  {
   "cell_type": "code",
   "execution_count": null,
   "id": "2f5dd795",
   "metadata": {},
   "outputs": [],
   "source": [
    "# Stamen Watercolor Map\n",
    "world_map = folium.Map(location = [40.4637, -3.7492], zoom_start = 4, tiles = \"Stamen Watercolor\")\n",
    "\n",
    "world_map"
   ]
  },
  {
   "cell_type": "markdown",
   "id": "a1c19fc6",
   "metadata": {},
   "source": [
    "4. **CartoDB Positron**: Mapa sin información relevante a escala de grises, diseñado para que la información representada en ella sea más llamativa."
   ]
  },
  {
   "cell_type": "code",
   "execution_count": null,
   "id": "22625b2f",
   "metadata": {},
   "outputs": [],
   "source": [
    "world_map = folium.Map(location = [40.4637, -3.7492], zoom_start = 6, tiles = \"CartoDB Positron\")\n",
    "\n",
    "world_map"
   ]
  },
  {
   "cell_type": "markdown",
   "id": "a8fdfc24",
   "metadata": {},
   "source": [
    "5. **CartoDB Dark_Matter**: Mapa sin información relevante a escala de negros, diseñado para que la información representada en ella sea más llamativa."
   ]
  },
  {
   "cell_type": "code",
   "execution_count": null,
   "id": "de100b0d",
   "metadata": {},
   "outputs": [],
   "source": [
    "world_map = folium.Map(location = [40.4637, -3.7492], zoom_start = 6, tiles = \"CartoDB Dark_Matter\")\n",
    "\n",
    "world_map"
   ]
  },
  {
   "cell_type": "markdown",
   "id": "c715acbb",
   "metadata": {},
   "source": [
    "### \"Estilos\" en folium"
   ]
  },
  {
   "cell_type": "code",
   "execution_count": null,
   "id": "dc109282",
   "metadata": {},
   "outputs": [],
   "source": [
    "# Se descarga un .csv con incidentes ocurridos en San Francisco\n",
    "\n",
    "df_incidents = pd.read_csv(\"https://s3-api.us-geo.objectstorage.softlayer.net/cf-courses-data/CognitiveClass/DV0101EN/labs/Data_Files/Police_Department_Incidents_-_Previous_Year__2016_.csv\")\n",
    "\n",
    "df_incidents.head(3)"
   ]
  },
  {
   "cell_type": "markdown",
   "id": "87c91701",
   "metadata": {},
   "source": [
    "Cada fila consta de 13 características:\n",
    "\n",
    "> 1. **IncidntNum**: Incident Number\n",
    "> 2. **Category**: Category of crime or incident\n",
    "> 3. **Descript**: Description of the crime or incident\n",
    "> 4. **DayOfWeek**: The day of week on which the incident occurred\n",
    "> 5. **Date**: The Date on which the incident occurred\n",
    "> 6. **Time**: The time of day on which the incident occurred\n",
    "> 7. **PdDistrict**: The police department district\n",
    "> 8. **Resolution**: The resolution of the crime in terms whether the perpetrator was arrested or not\n",
    "> 9. **Address**: The closest address to where the incident took place\n",
    "> 10. **X**: The longitude value of the crime location\n",
    "> 11. **Y**: The latitude value of the crime location\n",
    "> 12. **Location**: A tuple of the latitude and the longitude values\n",
    "> 13. **PdId**: The police department ID"
   ]
  },
  {
   "cell_type": "code",
   "execution_count": null,
   "id": "14afc509",
   "metadata": {},
   "outputs": [],
   "source": [
    "df_incidents.shape"
   ]
  },
  {
   "cell_type": "code",
   "execution_count": null,
   "id": "45f001fb",
   "metadata": {},
   "outputs": [],
   "source": [
    "# Vamos a truncar el DataFrame a 100 filas\n",
    "\n",
    "limit = 100\n",
    "\n",
    "df_incidents = df_incidents.iloc[0: limit, :]\n",
    "\n",
    "df_incidents.shape"
   ]
  },
  {
   "cell_type": "code",
   "execution_count": null,
   "id": "fc4dace2",
   "metadata": {},
   "outputs": [],
   "source": [
    "df_incidents"
   ]
  },
  {
   "cell_type": "code",
   "execution_count": null,
   "id": "add3f5c2",
   "metadata": {},
   "outputs": [],
   "source": [
    "# Latitud y Longitud de San Francisco\n",
    "\n",
    "latitude = 37.77\n",
    "longitude = -122.42"
   ]
  },
  {
   "cell_type": "code",
   "execution_count": null,
   "id": "e7bba3ad",
   "metadata": {},
   "outputs": [],
   "source": [
    "# Inicializa el mapa ubicado en San Francisco\n",
    "sf_map = folium.Map(location = [latitude, longitude], zoom_start = 12)\n",
    "\n",
    "# Muestra el mapa\n",
    "sf_map"
   ]
  },
  {
   "cell_type": "markdown",
   "id": "bed137da",
   "metadata": {},
   "source": [
    "### folium.CircleMarker()"
   ]
  },
  {
   "cell_type": "markdown",
   "id": "b6bf6def",
   "metadata": {},
   "source": [
    "Ahora **superpongamos** las ubicaciones de los crímenes en el mapa. La forma de hacerlo en **`folium`** es crear un **`FeatureGroup()`** con sus propias características y estilos y luego agregarlo al mapa."
   ]
  },
  {
   "cell_type": "code",
   "execution_count": null,
   "id": "6f42fafc",
   "metadata": {},
   "outputs": [],
   "source": [
    "# Inicializamos un FeatureGroup() para los incidentes en el DataFrame\n",
    "incidents = folium.map.FeatureGroup()\n",
    "\n",
    "# Recorre los 100 crímenes y agrega a cada uno al FeatureGroup() de incidentes\n",
    "# la columna Y y X son las coordenadas, latitud y longitud respectivamente\n",
    "\n",
    "for lat, lng in zip(df_incidents[\"Y\"], df_incidents[\"X\"]): \n",
    "    \n",
    "    incidents.add_child(folium.CircleMarker(location     = [lat, lng],\n",
    "                                            radius       = 9,\n",
    "                                            color        = \"red\",\n",
    "                                            fill         = True,\n",
    "                                            fill_color   = \"yellow\",\n",
    "                                            fill_opacity = 0.6))\n",
    "\n",
    "\n",
    "# Agrega incidentes al mapa\n",
    "sf_map.add_child(incidents)\n",
    "\n",
    "sf_map"
   ]
  },
  {
   "cell_type": "markdown",
   "id": "1630812a",
   "metadata": {},
   "source": [
    "### folium.Marker()"
   ]
  },
  {
   "cell_type": "code",
   "execution_count": null,
   "id": "004e0941",
   "metadata": {},
   "outputs": [],
   "source": [
    "# Volvemos a inicializar el mapa\n",
    "sf_map = folium.Map(location = [latitude, longitude], zoom_start = 12)\n",
    "\n",
    "# Inicializamos un FeatureGroup() para los incidentes en el DataFrame\n",
    "incidents = folium.map.FeatureGroup()\n",
    "\n",
    "# Recorre los 100 crímenes y agrega a cada uno al FeatureGroup() de incidentes\n",
    "# La columna Y y X son las coordenadas, latitud y longitud respectivamente\n",
    "# La columna \"Category\" es el tipo de incidente.\n",
    "\n",
    "for lat, lng, label in zip(df_incidents[\"Y\"], df_incidents[\"X\"], df_incidents[\"Category\"]):\n",
    "    \n",
    "    incidents.add_child(folium.Marker(location = [lat, lng],\n",
    "                                      popup    = label))\n",
    "    \n",
    "# Agrega incidentes al map\n",
    "sf_map.add_child(incidents)\n",
    "\n",
    "sf_map"
   ]
  },
  {
   "cell_type": "markdown",
   "id": "007fb2d9",
   "metadata": {},
   "source": [
    "### Nube de marcadores\n",
    "\n",
    "**`folium.plugins.MarkerCluster()`** "
   ]
  },
  {
   "cell_type": "code",
   "execution_count": null,
   "id": "e3d02d0b",
   "metadata": {},
   "outputs": [],
   "source": [
    "from folium import plugins\n",
    "\n",
    "# Volvemos a inicializar el mapa\n",
    "sf_map = folium.Map(location = [latitude, longitude], zoom_start = 12)\n",
    "\n",
    "# Creamos una instancia de un objeto de cluster (MarkerCluster())\n",
    "# de marca para los incidentes en el marco de datos\n",
    "\n",
    "incidents = plugins.MarkerCluster()\n",
    "\n",
    "# Recorre los 100 crímenes y agrega a cada uno al FeatureGroup() de incidentes\n",
    "# La columna Y y X son las coordenadas, latitud y longitud respectivamente\n",
    "# La columna \"Category\" es el tipo de incidente.\n",
    "\n",
    "for lat, lng, label, in zip(df_incidents[\"Y\"], df_incidents[\"X\"], df_incidents[\"Category\"]):\n",
    "    \n",
    "    incidents.add_child(folium.Marker(location = [lat, lng],\n",
    "                                      icon     = folium.Icon(icon           = \"fa-birthday-cake\",\n",
    "                                                             icon_color     = \"white\",\n",
    "                                                             color          = \"green\",\n",
    "                                                             prefix         = \"fa\"),\n",
    "                                      popup    = label))\n",
    "\n",
    "    \n",
    "# Agrega incidentes al map\n",
    "sf_map.add_child(incidents)\n",
    "\n",
    "sf_map\n",
    "\n",
    "\n",
    "# Información de Iconos: https://www.adaweb.es/iconos-font-awesome-css-content-values/"
   ]
  },
  {
   "cell_type": "markdown",
   "id": "90ce7a3d",
   "metadata": {},
   "source": [
    "## Choropleth Maps\n",
    "\n",
    "Un mapa **`Choropleth`** es un mapa temático en el que las áreas están sombreadas o modeladas en proporción a la medición de la variable estadística que se muestra en el mapa, como la densidad de población o el ingreso per cápita. El **`Choropleth`** map proporciona una manera fácil de visualizar cómo varía una medición en un área geográfica o muestra el nivel de variabilidad dentro de una región.\n",
    "\n",
    "Ahora, creemos nuestro propio mapa **`Choropleth`** del mundo que represente la inmigración de varios países a Canada."
   ]
  },
  {
   "cell_type": "code",
   "execution_count": null,
   "id": "31f75ddc",
   "metadata": {},
   "outputs": [],
   "source": [
    "canada = pd.read_excel(io = \"https://s3-api.us-geo.objectstorage.softlayer.net/cf-courses-data/CognitiveClass/DV0101EN/labs/Data_Files/Canada.xlsx\",\n",
    "                       sheet_name = \"Canada by Citizenship\",\n",
    "                       skiprows = range(20),\n",
    "                       skipfooter = 2)\n",
    "\n",
    "canada.head(3)"
   ]
  },
  {
   "cell_type": "code",
   "execution_count": null,
   "id": "bdbf10a4",
   "metadata": {},
   "outputs": [],
   "source": [
    "canada.shape"
   ]
  },
  {
   "cell_type": "code",
   "execution_count": null,
   "id": "95df6e95",
   "metadata": {},
   "outputs": [],
   "source": [
    "canada"
   ]
  },
  {
   "cell_type": "code",
   "execution_count": null,
   "id": "ee42e3dc",
   "metadata": {},
   "outputs": [],
   "source": [
    "# Limpiamos el Dataframe para remover columnas no necesarias: \n",
    "canada.drop([\"AREA\", \"REG\", \"DEV\", \"Type\", \"Coverage\"], axis = 1, inplace = True)\n",
    "\n",
    "# Cambiamos el nombre a las columnas para que tengan más sentido\n",
    "\n",
    "canada.rename(columns = {\"OdName\" : \"Country\",\n",
    "                         \"AreaName\" : \"Continent\",\n",
    "                         \"RegName\" : \"Region\"}, inplace = True)\n",
    "\n",
    "# Para tener consistencia, cambiamos todas las etiquetas de columnas a tipo string\n",
    "canada.columns = list(map(str, canada.columns))\n",
    "\n",
    "# Agregamos la columna total \n",
    "canada[\"Total\"] = canada[[str(x) for x in range(1980, 2014)]].sum(axis = 1)\n",
    "\n",
    "years = list(map(str, range(1980, 2014)))\n",
    "\n",
    "canada.shape"
   ]
  },
  {
   "cell_type": "code",
   "execution_count": null,
   "id": "fe797cf6",
   "metadata": {},
   "outputs": [],
   "source": [
    "canada.head(3)"
   ]
  },
  {
   "cell_type": "markdown",
   "id": "dad514f6",
   "metadata": {},
   "source": [
    "Para crear un mapa **`Choropleth`**, necesitamos un archivo **`GeoJSON`** que defina las áreas / límites del estado, condado o país en el que estamos interesados. En nuestro caso, dado que estamos tratando de crear un mapa mundial, quiere un **`GeoJSON`** que defina los límites de todos los países del mundo. Vamos a llamarlo **`world_countries.json`**\n",
    "\n",
    "Ahora que tenemos el archivo **`GeoJSON`**, creemos un mapa mundial, centrado alrededor de los valores **[0, 0]** latitud y longitud, con un nivel de zoom inicial de 2."
   ]
  },
  {
   "cell_type": "code",
   "execution_count": null,
   "id": "1816e392",
   "metadata": {},
   "outputs": [],
   "source": [
    "world_geo = \"data/world_countries.json\" # Archivo GeoJSON\n",
    "\n",
    "# Crea un mapa mundial \n",
    "world_map = folium.Map(location = [0, 0], zoom_start = 2)\n",
    "\n",
    "world_map"
   ]
  },
  {
   "cell_type": "markdown",
   "id": "82713fcc",
   "metadata": {},
   "source": [
    "Y ahora para crear un mapa **`Choropleth`**, utilizaremos la función **`folium.Choropleth()`** con los siguientes parámetros principales:\n",
    "\n",
    "1. **`geo_data`**, que es el archivo **`GeoJSON`**.\n",
    "\n",
    "\n",
    "2. **`data`**, que es el **`DataFrame`** que contiene los datos.\n",
    "\n",
    "\n",
    "3. **`columns`**, que representan las columnas en el **`DataFrame`** que se utilizarán para crear el mapa **`Choropleth`**.\n",
    "\n",
    "\n",
    "4. **`key_on`**, que es la clave o variable en el archivo **`GeoJSON`** que contiene el nombre de la variable de interés. Para determinar eso, deberá abrir el archivo **`GeoJSON`** utilizando cualquier editor de texto y anotar el nombre de la clave o variable que contiene el nombre de los países, ya que los países son nuestra variable de interés. En este caso, name es la clave en el archivo **`GeoJSON`** que contiene el nombre de los países. Tenga en cuenta que esta clave es sensible a mayúsculas y minúsculas, por lo que debe pasar exactamente como existe en el archivo **`GeoJSON`**."
   ]
  },
  {
   "cell_type": "code",
   "execution_count": null,
   "id": "9a1686b7",
   "metadata": {},
   "outputs": [],
   "source": [
    "folium.Choropleth(geo_data = world_geo,\n",
    "                  data     = canada,\n",
    "                  columns  = [\"Country\", \"Total\"],\n",
    "                  key_on   = \"feature.properties.name\").add_to(world_map)\n",
    "\n",
    "world_map"
   ]
  },
  {
   "cell_type": "code",
   "execution_count": null,
   "id": "4e0f5791",
   "metadata": {},
   "outputs": [],
   "source": [
    "world_map = folium.Map(location = [0, 0], zoom_start = 2)\n",
    "\n",
    "folium.Choropleth(geo_data     = \"data/world_countries.json\",\n",
    "                  data         = canada,\n",
    "                  columns      = [\"Country\", \"Total\"],\n",
    "                  key_on       = \"feature.properties.name\",\n",
    "                  fill_color   = \"Blues_r\", \n",
    "                  fill_opacity = 0.7, \n",
    "                  line_opacity = 0.2,\n",
    "                  legend_name  = \"Immigration to Canada\").add_to(world_map)\n",
    "\n",
    "world_map"
   ]
  },
  {
   "cell_type": "code",
   "execution_count": null,
   "id": "bd5ae7cb",
   "metadata": {},
   "outputs": [],
   "source": [
    "world_map.save(\"mapa_choropleth.html\")"
   ]
  },
  {
   "cell_type": "code",
   "execution_count": null,
   "id": "0c1f61dc",
   "metadata": {},
   "outputs": [],
   "source": [
    "################################################################################################################################"
   ]
  },
  {
   "cell_type": "code",
   "execution_count": null,
   "id": "33befacc",
   "metadata": {},
   "outputs": [],
   "source": [
    "canada[\"Country\"].replace(\"Venezuela (Bolivarian Republic of)\", \"Venezuela\", inplace = True)"
   ]
  },
  {
   "cell_type": "code",
   "execution_count": null,
   "id": "2a2f5aad",
   "metadata": {},
   "outputs": [],
   "source": [
    "paises_df = canada[\"Country\"].to_list()"
   ]
  },
  {
   "cell_type": "code",
   "execution_count": null,
   "id": "35125054",
   "metadata": {},
   "outputs": [],
   "source": [
    "import json\n",
    "\n",
    "with open(\"Data/world_countries.json\", mode = \"r\") as file:\n",
    "    \n",
    "    datos = json.load(file)"
   ]
  },
  {
   "cell_type": "code",
   "execution_count": null,
   "id": "9cca64a0",
   "metadata": {},
   "outputs": [],
   "source": [
    "paises_json = [x[\"properties\"][\"name\"] for x in datos[\"features\"]]"
   ]
  },
  {
   "cell_type": "code",
   "execution_count": null,
   "id": "bed50eda",
   "metadata": {},
   "outputs": [],
   "source": [
    "coincidencias = list()\n",
    "no_coincidencias = list()\n",
    "\n",
    "for pais in paises_df:\n",
    "    \n",
    "    if pais in paises_json:\n",
    "        \n",
    "        coincidencias.append(pais)\n",
    "\n",
    "    else:\n",
    "        \n",
    "        no_coincidencias.append(pais)\n"
   ]
  },
  {
   "cell_type": "code",
   "execution_count": null,
   "id": "f02a54a3",
   "metadata": {},
   "outputs": [],
   "source": [
    "canada[canada[\"Country\"] == \"American Samoa\"]"
   ]
  },
  {
   "cell_type": "code",
   "execution_count": null,
   "id": "b21a0790",
   "metadata": {},
   "outputs": [],
   "source": [
    "paises_json"
   ]
  },
  {
   "cell_type": "code",
   "execution_count": null,
   "id": "b710c79c",
   "metadata": {},
   "outputs": [],
   "source": [
    "no_coincidencias"
   ]
  },
  {
   "cell_type": "code",
   "execution_count": null,
   "id": "e0d072cd",
   "metadata": {},
   "outputs": [],
   "source": []
  },
  {
   "cell_type": "code",
   "execution_count": null,
   "id": "a2452e2c",
   "metadata": {},
   "outputs": [],
   "source": []
  }
 ],
 "metadata": {
  "kernelspec": {
   "display_name": "Python 3 (ipykernel)",
   "language": "python",
   "name": "python3"
  },
  "language_info": {
   "codemirror_mode": {
    "name": "ipython",
    "version": 3
   },
   "file_extension": ".py",
   "mimetype": "text/x-python",
   "name": "python",
   "nbconvert_exporter": "python",
   "pygments_lexer": "ipython3",
   "version": "3.12.3"
  }
 },
 "nbformat": 4,
 "nbformat_minor": 5
}
