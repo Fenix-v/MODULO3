{
 "cells": [
  {
   "cell_type": "markdown",
   "id": "221cc933",
   "metadata": {},
   "source": [
    "## NumPy - Avanzado\n",
    "\n",
    "En este notebook vamos a explorar diferentes funciones de esta librería enfocadas al trabajo con elementos **bi-dimensionales** (matrices) y manipulación de arrays.\n",
    "\n",
    "- Indexing y Slicing en NumPy.\n",
    "- Atributos de los arrays.\n",
    "- Funciones de agregación.\n",
    "- Funciones de ordenamiento.\n",
    "- Manipulación de arrays.\n",
    "- Creación de arrays.\n",
    "- Números Aleatorios en NumPy."
   ]
  },
  {
   "cell_type": "code",
   "execution_count": 1,
   "id": "04664844",
   "metadata": {},
   "outputs": [],
   "source": [
    "import numpy as np"
   ]
  },
  {
   "cell_type": "code",
   "execution_count": 2,
   "id": "1363fced-422d-4ae2-bdae-0327756d0148",
   "metadata": {
    "tags": []
   },
   "outputs": [
    {
     "name": "stdout",
     "output_type": "stream",
     "text": [
      "numpy==2.2.1\n"
     ]
    }
   ],
   "source": [
    "# Versión de NumPy\n",
    "\n",
    "print(f\"numpy=={np.__version__}\")"
   ]
  },
  {
   "cell_type": "markdown",
   "id": "ea923638-ad67-43b7-bcad-affac7295ce8",
   "metadata": {},
   "source": [
    "### Indexing y Slicing en NumPy\n",
    "\n",
    "#### Indexing\n",
    "\n",
    "En Python para hacer _**indexing**_ de una lista de listas debiamos escribir primero la _**fila**_ y de segundo la _**columna**_ asi:\n",
    "```python\n",
    "lista[a][b]\n",
    "```\n",
    "\n",
    "Usando un _**np.array()**_ podemos usar la siguiente notación:\n",
    "```python\n",
    "array[a, b]\n",
    "```\n",
    "\n",
    "#### Slicing\n",
    "\n",
    "En Python para hacer _**slicing**_ de una lista de listas debiamos escribir primero la _**fila**_ y de segundo la _**columna**_ asi:\n",
    "```python\n",
    "lista[a1:a2][b1:b2]\n",
    "```\n",
    "\n",
    "Usando un _**np.array()**_ podemos usar la siguiente notación:\n",
    "```python\n",
    "array[a1:a2, b1:b2]\n",
    "```\n",
    "\n",
    "También podemos hacer _**slicing**_ dentro del _**indexing**_ (esta operación retorna un array):\n",
    "\n",
    "```python\n",
    "array[[a1, a3], [b2, b4]]\n",
    "```\n",
    "\n",
    "**Siempre el primer elemento hace referencia a las filas y el segundo hace referencia a las columnas.**"
   ]
  },
  {
   "cell_type": "code",
   "execution_count": 3,
   "id": "15735cfa-ee88-4891-87cd-f1e8767b67f3",
   "metadata": {},
   "outputs": [
    {
     "name": "stdout",
     "output_type": "stream",
     "text": [
      "[[1 0 0 0 0]\n",
      " [0 0 2 0 0]\n",
      " [1 1 0 0 1]\n",
      " [2 1 1 1 0]\n",
      " [1 2 1 2 2]]\n"
     ]
    }
   ],
   "source": [
    "# matriz de ejemplo\n",
    "\n",
    "matriz = np.array([[1, 0, 0, 0, 0],\n",
    "                   [0, 0, 2, 0, 0],\n",
    "                   [1, 1, 0, 0, 1],\n",
    "                   [2, 1, 1, 1, 0],\n",
    "                   [1, 2, 1, 2, 2]])\n",
    "\n",
    "print(matriz)"
   ]
  },
  {
   "cell_type": "code",
   "execution_count": 4,
   "id": "21dbaeca",
   "metadata": {},
   "outputs": [
    {
     "data": {
      "text/plain": [
       "np.int64(2)"
      ]
     },
     "execution_count": 4,
     "metadata": {},
     "output_type": "execute_result"
    }
   ],
   "source": [
    "# Hacer\n",
    "\n",
    "matriz[4][1]"
   ]
  },
  {
   "cell_type": "code",
   "execution_count": 5,
   "id": "ec4d8249",
   "metadata": {},
   "outputs": [
    {
     "data": {
      "text/plain": [
       "np.int64(2)"
      ]
     },
     "execution_count": 5,
     "metadata": {},
     "output_type": "execute_result"
    }
   ],
   "source": [
    "# Es igual que hacer\n",
    "\n",
    "matriz[4, 1]"
   ]
  },
  {
   "cell_type": "code",
   "execution_count": 6,
   "id": "52d4413b",
   "metadata": {},
   "outputs": [
    {
     "data": {
      "text/plain": [
       "array([[0, 2, 0],\n",
       "       [1, 0, 0],\n",
       "       [1, 1, 1]])"
      ]
     },
     "execution_count": 6,
     "metadata": {},
     "output_type": "execute_result"
    }
   ],
   "source": [
    "# Slicing\n",
    "\n",
    "matriz[1:4, 1:4]"
   ]
  },
  {
   "cell_type": "code",
   "execution_count": 7,
   "id": "93e46fc8",
   "metadata": {},
   "outputs": [
    {
     "data": {
      "text/plain": [
       "array([2, 0])"
      ]
     },
     "execution_count": 7,
     "metadata": {},
     "output_type": "execute_result"
    }
   ],
   "source": [
    "# Indexing + Slicing\n",
    "# El resultado es un array, no un único elemento \n",
    "\n",
    "matriz[[1, 3], [2, 4]]"
   ]
  },
  {
   "cell_type": "markdown",
   "id": "818240ee-5efa-44e4-82fa-e8bb64a25394",
   "metadata": {},
   "source": [
    "#### Atributos de los arrays\n",
    "\n",
    "|Atributo      |Descripción                                          |\n",
    "|--------------|-----------------------------------------------------|\n",
    "|**.dtype**    |Retorna el tipo de dato de los elementos de un array.|\n",
    "|**.ndim**     |Retorna el número de dimensiones de un array.        |\n",
    "|**.size**     |Retorna el total de elementos no nulos de un array.  |\n",
    "|**.shape**    |Retorna en una tupla las dimensiones de un array.    |\n",
    "| **.T**       |Retorna la transpuesta de una matriz.                |"
   ]
  },
  {
   "cell_type": "code",
   "execution_count": 8,
   "id": "9bb8b5d0-efd7-4202-8c90-15f0fd7676c4",
   "metadata": {
    "tags": []
   },
   "outputs": [
    {
     "data": {
      "text/plain": [
       "dtype('int64')"
      ]
     },
     "execution_count": 8,
     "metadata": {},
     "output_type": "execute_result"
    }
   ],
   "source": [
    "# .dtype retorna el tipo de dato de los elementos de un array.\n",
    "matriz.dtype"
   ]
  },
  {
   "cell_type": "code",
   "execution_count": 9,
   "id": "4f9447e5-bdfa-457f-b997-694fac3fc46a",
   "metadata": {
    "tags": []
   },
   "outputs": [
    {
     "data": {
      "text/plain": [
       "2"
      ]
     },
     "execution_count": 9,
     "metadata": {},
     "output_type": "execute_result"
    }
   ],
   "source": [
    "# .ndim retorna el número de dimensiones de un array.\n",
    "# Como es una matriz tiene 2 dimensiones (filas y columnas)\n",
    "matriz.ndim"
   ]
  },
  {
   "cell_type": "code",
   "execution_count": 10,
   "id": "bb68ad0c-9ed4-4177-927b-b359a937b6f0",
   "metadata": {
    "tags": []
   },
   "outputs": [
    {
     "data": {
      "text/plain": [
       "25"
      ]
     },
     "execution_count": 10,
     "metadata": {},
     "output_type": "execute_result"
    }
   ],
   "source": [
    "# .size retorna el total de elementos no nulos de un array.\n",
    "\n",
    "matriz.size"
   ]
  },
  {
   "cell_type": "code",
   "execution_count": 11,
   "id": "879db54b-790e-4f79-a85a-0c9304bec8fa",
   "metadata": {
    "tags": []
   },
   "outputs": [
    {
     "data": {
      "text/plain": [
       "(5, 5)"
      ]
     },
     "execution_count": 11,
     "metadata": {},
     "output_type": "execute_result"
    }
   ],
   "source": [
    "# .shape retorna en una tupla las dimensiones de un array.\n",
    "# Como es una matriz y tiene 2 dimensiones, retorna el total de filas y el total de columnas.\n",
    "\n",
    "matriz.shape"
   ]
  },
  {
   "cell_type": "code",
   "execution_count": 12,
   "id": "3171a8db-02b3-4b36-9f2d-3d12919f5f14",
   "metadata": {
    "tags": []
   },
   "outputs": [
    {
     "data": {
      "text/plain": [
       "array([[1, 0, 1, 2, 1],\n",
       "       [0, 0, 1, 1, 2],\n",
       "       [0, 2, 0, 1, 1],\n",
       "       [0, 0, 0, 1, 2],\n",
       "       [0, 0, 1, 0, 2]])"
      ]
     },
     "execution_count": 12,
     "metadata": {},
     "output_type": "execute_result"
    }
   ],
   "source": [
    "# .T retorna la transpuesta de una matriz\n",
    "\n",
    "matriz.T"
   ]
  },
  {
   "cell_type": "markdown",
   "id": "1ced8f51-1ac8-444b-a24c-49d51efda7e1",
   "metadata": {},
   "source": [
    "### Funciones de Agregación\n",
    "\n",
    "Las funciones de agregación permiten reseumir los datos de un _**array**_ en un único valor.\n",
    "\n",
    "|Función         |Descripción                                                                                                |\n",
    "|----------------|-----------------------------------------------------------------------------------------------------------|\n",
    "|**np.sum()**    |Retorna la suma de todos los elementos del array.                                                          |\n",
    "|**np.prod()**   |Retorna el producto de todos los elementos del array.                                                      |\n",
    "|**np.cumsum()** |Retorna la suma acumulada de todos los elementos del array.                                                |\n",
    "|**np.cumprod()**|Retorna el producto acumulado de todos los elementos del array.                                            |\n",
    "|**np.mean()**   |Retorna la media de todos los elementos del array.                                                         |\n",
    "|**np.median()** |Retorna la mediana de todos los elementos del array.                                                       |\n",
    "|**np.min()**    |Retorna el mínimo de todos los elementos del array.                                                        |\n",
    "|**np.max()**    |Retorna la máximo de todos los elementos del array.                                                        |\n",
    "|**np.std()**    |Retorna la desviación estandar de todos los elementos del array.                                           |\n",
    "|**np.any()**    |Retorna **True** si al menos uno de los elementos del array es **True**. De lo contrario retorna **False**.|\n",
    "|**np.all()**    |Retorna **True** si todos todos los elementos del array son **True**. De lo contrario retorna **False**.   |\n",
    "\n",
    "\n",
    "Si es un **array de dos dimensiones** podemos añadir el parámetro _**axis = 0/1**_. Esto retornará la operación por **columna/fila**. El resultado de esa operación será un array, no un único valor."
   ]
  },
  {
   "cell_type": "code",
   "execution_count": 60,
   "id": "ad66398d-efc3-470c-8bc2-504303e2a3db",
   "metadata": {
    "tags": []
   },
   "outputs": [
    {
     "name": "stdout",
     "output_type": "stream",
     "text": [
      "[ 1  3  2  5  4  6  8  7  9  1  8 10]\n"
     ]
    }
   ],
   "source": [
    "# array de ejemplo\n",
    "\n",
    "array = np.array([1, 3, 2, 5, 4, 6, 8, 7, 9, 1, 8, 10])\n",
    "\n",
    "print(array)"
   ]
  },
  {
   "cell_type": "code",
   "execution_count": 61,
   "id": "d7aec49d-43a2-4478-a10c-7e9ff2b2e9ee",
   "metadata": {
    "tags": []
   },
   "outputs": [
    {
     "data": {
      "text/plain": [
       "np.int64(64)"
      ]
     },
     "execution_count": 61,
     "metadata": {},
     "output_type": "execute_result"
    }
   ],
   "source": [
    "# np.sum() retorna la suma de todos los elementos del array.\n",
    "\n",
    "np.sum(array)"
   ]
  },
  {
   "cell_type": "code",
   "execution_count": 64,
   "id": "fa519127",
   "metadata": {},
   "outputs": [
    {
     "data": {
      "text/plain": [
       "array([[1, 0, 0, 0, 0],\n",
       "       [0, 0, 2, 0, 0],\n",
       "       [1, 1, 0, 0, 1],\n",
       "       [2, 1, 1, 1, 0],\n",
       "       [1, 2, 1, 2, 2]])"
      ]
     },
     "execution_count": 64,
     "metadata": {},
     "output_type": "execute_result"
    }
   ],
   "source": [
    "matriz"
   ]
  },
  {
   "cell_type": "code",
   "execution_count": 65,
   "id": "d99f5abf-9132-4718-86a9-68e27eb14070",
   "metadata": {
    "tags": []
   },
   "outputs": [
    {
     "data": {
      "text/plain": [
       "np.int64(19)"
      ]
     },
     "execution_count": 65,
     "metadata": {},
     "output_type": "execute_result"
    }
   ],
   "source": [
    "# Si es una matriz retorna la suma de todos los elementos\n",
    "\n",
    "np.sum(matriz)"
   ]
  },
  {
   "cell_type": "code",
   "execution_count": 66,
   "id": "769fae5c-7d15-48be-8873-941dcb905eb0",
   "metadata": {
    "tags": []
   },
   "outputs": [
    {
     "data": {
      "text/plain": [
       "array([5, 4, 4, 3, 3])"
      ]
     },
     "execution_count": 66,
     "metadata": {},
     "output_type": "execute_result"
    }
   ],
   "source": [
    "# Si añadimos el parámetro \"axis = 0/1\" entonces retornará la suma por cada columna/fila \n",
    "\n",
    "np.sum(matriz, axis = 0)\n",
    "# np.sum(matriz, axis = 1)"
   ]
  },
  {
   "cell_type": "code",
   "execution_count": 67,
   "id": "a34ed268",
   "metadata": {},
   "outputs": [
    {
     "data": {
      "text/plain": [
       "array([1, 2, 3, 5, 8])"
      ]
     },
     "execution_count": 67,
     "metadata": {},
     "output_type": "execute_result"
    }
   ],
   "source": [
    "np.sum(matriz, axis = 1)"
   ]
  },
  {
   "cell_type": "code",
   "execution_count": 17,
   "id": "0fa7a1d9-4879-4780-b476-54881b3cf028",
   "metadata": {
    "tags": []
   },
   "outputs": [
    {
     "data": {
      "text/plain": [
       "np.int64(29030400)"
      ]
     },
     "execution_count": 17,
     "metadata": {},
     "output_type": "execute_result"
    }
   ],
   "source": [
    "# np.prod() retorna el producto de todos los elementos del array.\n",
    "\n",
    "np.prod(array)"
   ]
  },
  {
   "cell_type": "code",
   "execution_count": 18,
   "id": "ce764b22-b815-45d6-a2d3-8c5b8b7d5f1d",
   "metadata": {
    "tags": []
   },
   "outputs": [
    {
     "data": {
      "text/plain": [
       "np.int64(0)"
      ]
     },
     "execution_count": 18,
     "metadata": {},
     "output_type": "execute_result"
    }
   ],
   "source": [
    "# Si es una matriz retorna el producto de todos los elementos\n",
    "\n",
    "np.prod(matriz)"
   ]
  },
  {
   "cell_type": "code",
   "execution_count": 19,
   "id": "710c3438-0c06-40b0-82ba-96ac1f167564",
   "metadata": {
    "tags": []
   },
   "outputs": [
    {
     "data": {
      "text/plain": [
       "array([0, 0, 0, 0, 0])"
      ]
     },
     "execution_count": 19,
     "metadata": {},
     "output_type": "execute_result"
    }
   ],
   "source": [
    "# Si añadimos el parámetro \"axis = 0/1\" entonces retornará el producto por cada columna/fila \n",
    "\n",
    "np.prod(matriz, axis = 0)\n",
    "# np.prod(matriz, axis = 1)"
   ]
  },
  {
   "cell_type": "code",
   "execution_count": 68,
   "id": "58934f6f",
   "metadata": {},
   "outputs": [
    {
     "data": {
      "text/plain": [
       "array([0, 0, 0, 0, 8])"
      ]
     },
     "execution_count": 68,
     "metadata": {},
     "output_type": "execute_result"
    }
   ],
   "source": [
    "np.prod(matriz, axis = 1)"
   ]
  },
  {
   "cell_type": "code",
   "execution_count": 20,
   "id": "0527cefd-40a1-46e2-927e-4599a1cf3786",
   "metadata": {
    "tags": []
   },
   "outputs": [
    {
     "data": {
      "text/plain": [
       "array([ 1,  4,  6, 11, 15, 21, 29, 36, 45, 46, 54, 64])"
      ]
     },
     "execution_count": 20,
     "metadata": {},
     "output_type": "execute_result"
    }
   ],
   "source": [
    "# np.cumsum() retorna la suma acumulada de todos los elementos del array.\n",
    "\n",
    "np.cumsum(array)"
   ]
  },
  {
   "cell_type": "code",
   "execution_count": 72,
   "id": "e0607dc8",
   "metadata": {},
   "outputs": [
    {
     "data": {
      "text/plain": [
       "array([ 1,  4,  6, 11, 15, 21, 29, 36, 45, 46, 54, 64])"
      ]
     },
     "execution_count": 72,
     "metadata": {},
     "output_type": "execute_result"
    }
   ],
   "source": [
    "# Para obtener el array original a partir del array suma cumulativa usamos el np.diff\n",
    "# Si solo tenemos el acumulado, nos interesa sacar cada valor independiente usando np.diff\n",
    "np.diff(np.cumsum(array), 0, array[0])"
   ]
  },
  {
   "cell_type": "code",
   "execution_count": 21,
   "id": "a58bb745-5a81-4c4b-9cdd-053f7b8f3183",
   "metadata": {
    "tags": []
   },
   "outputs": [
    {
     "data": {
      "text/plain": [
       "array([       1,        3,        6,       30,      120,      720,\n",
       "           5760,    40320,   362880,   362880,  2903040, 29030400])"
      ]
     },
     "execution_count": 21,
     "metadata": {},
     "output_type": "execute_result"
    }
   ],
   "source": [
    "# np.cumprod() retorna el producto acumulado de todos los elementos del array.\n",
    "\n",
    "np.cumprod(array)"
   ]
  },
  {
   "cell_type": "code",
   "execution_count": 22,
   "id": "0ac28d77-2819-4d6d-8f9d-6ca2162a40db",
   "metadata": {
    "tags": []
   },
   "outputs": [
    {
     "data": {
      "text/plain": [
       "np.float64(5.333333333333333)"
      ]
     },
     "execution_count": 22,
     "metadata": {},
     "output_type": "execute_result"
    }
   ],
   "source": [
    "# np.mean() retorna la media de todos los elementos del array.\n",
    "\n",
    "np.mean(array)\n",
    "\n",
    "# np.mean(matriz, axis = 1)"
   ]
  },
  {
   "cell_type": "code",
   "execution_count": 23,
   "id": "4173ac9d-9068-4743-8cef-adc25776e23b",
   "metadata": {
    "tags": []
   },
   "outputs": [
    {
     "data": {
      "text/plain": [
       "np.float64(5.5)"
      ]
     },
     "execution_count": 23,
     "metadata": {},
     "output_type": "execute_result"
    }
   ],
   "source": [
    "# np.median() retorna la mediana de todos los elementos del array.\n",
    "\n",
    "np.median(array)"
   ]
  },
  {
   "cell_type": "code",
   "execution_count": 24,
   "id": "d5d36e61-e9cb-4d09-8eb3-ffc64f6a0fc0",
   "metadata": {
    "tags": []
   },
   "outputs": [
    {
     "data": {
      "text/plain": [
       "np.int64(1)"
      ]
     },
     "execution_count": 24,
     "metadata": {},
     "output_type": "execute_result"
    }
   ],
   "source": [
    "# np.min() retorna el mínimo de todos los elementos del array.\n",
    "\n",
    "np.min(array)"
   ]
  },
  {
   "cell_type": "code",
   "execution_count": 25,
   "id": "d6b86213-a3d8-4d8a-905b-3c743dd4242a",
   "metadata": {
    "tags": []
   },
   "outputs": [
    {
     "data": {
      "text/plain": [
       "np.int64(10)"
      ]
     },
     "execution_count": 25,
     "metadata": {},
     "output_type": "execute_result"
    }
   ],
   "source": [
    "# np.max() retorna la máximo de todos los elementos del array.\n",
    "\n",
    "np.max(array)"
   ]
  },
  {
   "cell_type": "code",
   "execution_count": 26,
   "id": "d26acc16-73da-4f37-8e00-1c296258de73",
   "metadata": {
    "tags": []
   },
   "outputs": [
    {
     "data": {
      "text/plain": [
       "np.float64(3.009245014211298)"
      ]
     },
     "execution_count": 26,
     "metadata": {},
     "output_type": "execute_result"
    }
   ],
   "source": [
    "# np.std() retorna la desviación estandar de todos los elementos del array.\n",
    "\n",
    "np.std(array)"
   ]
  },
  {
   "cell_type": "code",
   "execution_count": 27,
   "id": "09eed006-6e92-4540-b1c4-b7ccfae8227d",
   "metadata": {
    "tags": []
   },
   "outputs": [
    {
     "data": {
      "text/plain": [
       "np.True_"
      ]
     },
     "execution_count": 27,
     "metadata": {},
     "output_type": "execute_result"
    }
   ],
   "source": [
    "# np.any() retorna True si al menos uno de los elementos del array es True. De lo contrario retorna False.\n",
    "\n",
    "np.any(array)"
   ]
  },
  {
   "cell_type": "code",
   "execution_count": 28,
   "id": "564bc629-e67c-4fe6-9456-c0d7f5618d42",
   "metadata": {
    "tags": []
   },
   "outputs": [
    {
     "data": {
      "text/plain": [
       "np.True_"
      ]
     },
     "execution_count": 28,
     "metadata": {},
     "output_type": "execute_result"
    }
   ],
   "source": [
    "# np.all() retorna True si todos todos los elementos del array son True. De lo contrario retorna False.\n",
    "\n",
    "np.all(array)"
   ]
  },
  {
   "cell_type": "markdown",
   "id": "c7e921f1-9938-452f-a0bb-a37756eaf3e7",
   "metadata": {},
   "source": [
    "### Funciones de ordenamiento\n",
    "\n",
    "|Función         |Descripción                                                                                                     |\n",
    "|----------------|----------------------------------------------------------------------------------------------------------------|\n",
    "|**np.sort()**   |Retorna un array ordenado de menor a mayor.                                                                     |\n",
    "|**np.argsort()**|Retorna los indices de los elementos de un array, representan el array ordenado de menor a mayor.               |\n",
    "|**np.argmin()** |Retorna el índice del elemento menor de un array. Si ese elemento se repite entonces retorna el de menor índice.|\n",
    "|**np.argmax()** |Retorna el índice del elemento mayor de un array. Si ese elemento se repite entonces retorna el de menor índice.|"
   ]
  },
  {
   "cell_type": "code",
   "execution_count": 29,
   "id": "5d39a49b-86d8-413e-a018-2158239b20da",
   "metadata": {
    "tags": []
   },
   "outputs": [
    {
     "data": {
      "text/plain": [
       "array([ 1,  1,  2,  3,  4,  5,  6,  7,  8,  8,  9, 10])"
      ]
     },
     "execution_count": 29,
     "metadata": {},
     "output_type": "execute_result"
    }
   ],
   "source": [
    "# np.sort() retorna un array ordenado de menor a mayor.\n",
    "\n",
    "np.sort(array)"
   ]
  },
  {
   "cell_type": "code",
   "execution_count": 30,
   "id": "0ae96b8f-b78b-4631-9475-a81d4628972a",
   "metadata": {
    "tags": []
   },
   "outputs": [
    {
     "data": {
      "text/plain": [
       "array([[0, 0, 0, 0, 1],\n",
       "       [0, 0, 0, 0, 2],\n",
       "       [0, 0, 1, 1, 1],\n",
       "       [0, 1, 1, 1, 2],\n",
       "       [1, 1, 2, 2, 2]])"
      ]
     },
     "execution_count": 30,
     "metadata": {},
     "output_type": "execute_result"
    }
   ],
   "source": [
    "# Ordena por fila\n",
    "\n",
    "np.sort(matriz, axis = 1)"
   ]
  },
  {
   "cell_type": "code",
   "execution_count": 31,
   "id": "9ac39236-ebe7-498b-862f-21d689fc8460",
   "metadata": {
    "tags": []
   },
   "outputs": [
    {
     "data": {
      "text/plain": [
       "array([[0, 0, 0, 0, 0],\n",
       "       [1, 0, 0, 0, 0],\n",
       "       [1, 1, 1, 0, 0],\n",
       "       [1, 1, 1, 1, 1],\n",
       "       [2, 2, 2, 2, 2]])"
      ]
     },
     "execution_count": 31,
     "metadata": {},
     "output_type": "execute_result"
    }
   ],
   "source": [
    "# Ordena por columa\n",
    "\n",
    "np.sort(matriz, axis = 0)"
   ]
  },
  {
   "cell_type": "code",
   "execution_count": 32,
   "id": "ac694a97-00da-45af-9ce1-b843708e39ba",
   "metadata": {
    "tags": []
   },
   "outputs": [
    {
     "data": {
      "text/plain": [
       "np.int64(0)"
      ]
     },
     "execution_count": 32,
     "metadata": {},
     "output_type": "execute_result"
    }
   ],
   "source": [
    "# np.argmin() retorna el índice del elemento menor de un array. Si ese elemento se repite entonces retorna el de menor índice.\n",
    "\n",
    "# En este ejemplo retorna 0, porque el índice del elemento más pequeño es 0\n",
    "\n",
    "np.argmin(array)"
   ]
  },
  {
   "cell_type": "code",
   "execution_count": 33,
   "id": "a270d2ac-07f3-4755-a729-3b0781e4a504",
   "metadata": {
    "tags": []
   },
   "outputs": [
    {
     "data": {
      "text/plain": [
       "np.int64(11)"
      ]
     },
     "execution_count": 33,
     "metadata": {},
     "output_type": "execute_result"
    }
   ],
   "source": [
    "# np.argmax() retorna el índice del elemento mayor de un array. Si ese elemento se repite entonces retorna el de menor índice.\n",
    "\n",
    "# En este ejemplo retorna 11, porque el índice del elemento más grande es 11\n",
    "\n",
    "np.argmax(array)"
   ]
  },
  {
   "cell_type": "markdown",
   "id": "414ee84e-f407-4c92-a3f7-d4ac9b8626d8",
   "metadata": {},
   "source": [
    "### Manipulación de arrays\n",
    "\n",
    "Estas **funciones/métodos** se utilizan para modificar, transformar o combinar arrays.\n",
    "\n",
    "|Función             |Descripción                                                                |\n",
    "|--------------------|---------------------------------------------------------------------------|\n",
    "|**np.reshape()**    |Modifica la _forma_ de un array (también es un método).                    |\n",
    "|**np.ravel()**      |_Aplana_ un array de 2 o más dimensiones a 1 dimensión.                    |\n",
    "|**.flatten()**      |(**Método**) _Aplana_ un array de 2 o más dimensiones a 1 dimensión.       |\n",
    "|**np.vstack()**     |Une **verticalmente** una colección de arrays del mismo número de columnas.|\n",
    "|**np.hstack()**     |Une **horizontalmente** una colección de arrays del mismo número de filas. |\n",
    "|**np.concatenate()**|Es una generalización de las funciones **np.vstack()** y **np.hstack()**.  |\n",
    "|**np.transpose()**  |Retorna la transpuesta de una matriz. Es una función.                      |\n",
    "|**.tolist()**       |(**Método**) Transforma un array a lista.                                  |\n",
    "|**np.where()**      |Retorna los elementos filtrados de un array.                               |"
   ]
  },
  {
   "cell_type": "code",
   "execution_count": 73,
   "id": "517d64b1",
   "metadata": {},
   "outputs": [
    {
     "data": {
      "text/plain": [
       "array([ 1,  3,  2,  5,  4,  6,  8,  7,  9,  1,  8, 10])"
      ]
     },
     "execution_count": 73,
     "metadata": {},
     "output_type": "execute_result"
    }
   ],
   "source": [
    "array"
   ]
  },
  {
   "cell_type": "code",
   "execution_count": 34,
   "id": "9f61334b-5bae-4368-9d31-ce9ee0842b33",
   "metadata": {
    "tags": []
   },
   "outputs": [
    {
     "name": "stderr",
     "output_type": "stream",
     "text": [
      "C:\\Users\\alanj\\AppData\\Local\\Temp\\ipykernel_21856\\3503389013.py:3: DeprecationWarning: `newshape` keyword argument is deprecated, use `shape=...` or pass shape positionally instead. (deprecated in NumPy 2.1)\n",
      "  np.reshape(array, newshape = (3, 4))\n"
     ]
    },
    {
     "data": {
      "text/plain": [
       "array([[ 1,  3,  2,  5],\n",
       "       [ 4,  6,  8,  7],\n",
       "       [ 9,  1,  8, 10]])"
      ]
     },
     "execution_count": 34,
     "metadata": {},
     "output_type": "execute_result"
    }
   ],
   "source": [
    "# np.reshape() modifica la forma de un array\n",
    "\n",
    "np.reshape(array, newshape = (3, 4))\n",
    "\n",
    "# En este ejemplo estamos usando la variable \"array\" que tiene en total 12 elementos\n",
    "# Para usar reshape la nueva forma del array debe de utilizar todos los elementos, no pueden ser más ni menos\n",
    "# Por eso (3, 4) es una forma valida, ya que 3*4=12\n",
    "\n",
    "# Esta es una forma fácil de transformar un array de una dimensión a un array de 2 o más dimensiones"
   ]
  },
  {
   "cell_type": "code",
   "execution_count": 35,
   "id": "fbdd1bbf-be38-4e3a-8e5b-0c2277936248",
   "metadata": {
    "tags": []
   },
   "outputs": [
    {
     "data": {
      "text/plain": [
       "array([[ 1,  3,  2,  5],\n",
       "       [ 4,  6,  8,  7],\n",
       "       [ 9,  1,  8, 10]])"
      ]
     },
     "execution_count": 35,
     "metadata": {},
     "output_type": "execute_result"
    }
   ],
   "source": [
    "# Se puede lograr lo mismo usandolo como método\n",
    "\n",
    "array.reshape(3, 4)"
   ]
  },
  {
   "cell_type": "code",
   "execution_count": 36,
   "id": "d28e746b-c196-4026-839e-b0ea8868033a",
   "metadata": {
    "tags": []
   },
   "outputs": [
    {
     "data": {
      "text/plain": [
       "array([1, 0, 0, 0, 0, 0, 0, 2, 0, 0, 1, 1, 0, 0, 1, 2, 1, 1, 1, 0, 1, 2,\n",
       "       1, 2, 2])"
      ]
     },
     "execution_count": 36,
     "metadata": {},
     "output_type": "execute_result"
    }
   ],
   "source": [
    "# np.ravel() aplana un array de 2 o más dimensiones a 1 dimensión. Es una función\n",
    "\n",
    "np.ravel(matriz)"
   ]
  },
  {
   "cell_type": "code",
   "execution_count": 37,
   "id": "d885a7e4-c64e-4c61-b22b-bc2eaee70a4e",
   "metadata": {
    "tags": []
   },
   "outputs": [
    {
     "data": {
      "text/plain": [
       "array([1, 0, 0, 0, 0, 0, 0, 2, 0, 0, 1, 1, 0, 0, 1, 2, 1, 1, 1, 0, 1, 2,\n",
       "       1, 2, 2])"
      ]
     },
     "execution_count": 37,
     "metadata": {},
     "output_type": "execute_result"
    }
   ],
   "source": [
    "# .flatten() Aplana un array de 2 o más dimensiones a 1 dimensión. Es un método\n",
    "\n",
    "matriz.flatten()"
   ]
  },
  {
   "cell_type": "code",
   "execution_count": 38,
   "id": "47b83ee0-7864-4a31-a9a5-feb0c2b38a13",
   "metadata": {},
   "outputs": [
    {
     "data": {
      "text/plain": [
       "array([[1, 0, 0, 0, 0],\n",
       "       [0, 0, 2, 0, 0],\n",
       "       [1, 1, 0, 0, 1],\n",
       "       [2, 1, 1, 1, 0],\n",
       "       [1, 2, 1, 2, 2],\n",
       "       [1, 0, 0, 0, 0],\n",
       "       [0, 0, 2, 0, 0],\n",
       "       [1, 1, 0, 0, 1],\n",
       "       [2, 1, 1, 1, 0],\n",
       "       [1, 2, 1, 2, 2]])"
      ]
     },
     "execution_count": 38,
     "metadata": {},
     "output_type": "execute_result"
    }
   ],
   "source": [
    "# np.vstack() une verticalmente una colección de arrays del mismo número de columnas.\n",
    "\n",
    "np.vstack((matriz, matriz))"
   ]
  },
  {
   "cell_type": "code",
   "execution_count": 39,
   "id": "22ab2e0e-8e25-4d1e-9ef6-dbb651a1e916",
   "metadata": {
    "tags": []
   },
   "outputs": [
    {
     "data": {
      "text/plain": [
       "array([[1, 0, 0, 0, 0, 1, 0, 0, 0, 0],\n",
       "       [0, 0, 2, 0, 0, 0, 0, 2, 0, 0],\n",
       "       [1, 1, 0, 0, 1, 1, 1, 0, 0, 1],\n",
       "       [2, 1, 1, 1, 0, 2, 1, 1, 1, 0],\n",
       "       [1, 2, 1, 2, 2, 1, 2, 1, 2, 2]])"
      ]
     },
     "execution_count": 39,
     "metadata": {},
     "output_type": "execute_result"
    }
   ],
   "source": [
    "# np.hstack() une horizontalmente una colección de arrays del mismo número de filas.\n",
    "\n",
    "np.hstack((matriz, matriz))"
   ]
  },
  {
   "cell_type": "code",
   "execution_count": 40,
   "id": "dfb7ec09-06e5-4b10-9cc6-f42379a732f7",
   "metadata": {
    "tags": []
   },
   "outputs": [
    {
     "data": {
      "text/plain": [
       "array([[1, 0, 0, 0, 0],\n",
       "       [0, 0, 2, 0, 0],\n",
       "       [1, 1, 0, 0, 1],\n",
       "       [2, 1, 1, 1, 0],\n",
       "       [1, 2, 1, 2, 2],\n",
       "       [1, 0, 0, 0, 0],\n",
       "       [0, 0, 2, 0, 0],\n",
       "       [1, 1, 0, 0, 1],\n",
       "       [2, 1, 1, 1, 0],\n",
       "       [1, 2, 1, 2, 2]])"
      ]
     },
     "execution_count": 40,
     "metadata": {},
     "output_type": "execute_result"
    }
   ],
   "source": [
    "# np.concatenate() es una generalización de las funciones np.vstack() y np.hstack().\n",
    "# Para indicar en que sentido se hara la concatenación es através del parámetro \"axis = 0/1\"\n",
    "\n",
    "np.concatenate((matriz, matriz), axis = 0)\n",
    "\n",
    "# np.concatenate((matriz, matriz), axis = 1)"
   ]
  },
  {
   "cell_type": "code",
   "execution_count": 41,
   "id": "5f5144ae-2e1d-4c3b-8ba2-841fd359b76a",
   "metadata": {
    "tags": []
   },
   "outputs": [
    {
     "data": {
      "text/plain": [
       "array([[1, 0, 1, 2, 1],\n",
       "       [0, 0, 1, 1, 2],\n",
       "       [0, 2, 0, 1, 1],\n",
       "       [0, 0, 0, 1, 2],\n",
       "       [0, 0, 1, 0, 2]])"
      ]
     },
     "execution_count": 41,
     "metadata": {},
     "output_type": "execute_result"
    }
   ],
   "source": [
    "# np.transpose() retorna la transpuesta de una matriz. Es una función.\n",
    "\n",
    "np.transpose(matriz)"
   ]
  },
  {
   "cell_type": "code",
   "execution_count": 42,
   "id": "b55816f7-058f-4f1a-aaca-83c9e26d0af3",
   "metadata": {
    "tags": []
   },
   "outputs": [
    {
     "data": {
      "text/plain": [
       "[[1, 0, 0, 0, 0],\n",
       " [0, 0, 2, 0, 0],\n",
       " [1, 1, 0, 0, 1],\n",
       " [2, 1, 1, 1, 0],\n",
       " [1, 2, 1, 2, 2]]"
      ]
     },
     "execution_count": 42,
     "metadata": {},
     "output_type": "execute_result"
    }
   ],
   "source": [
    "# .tolist() transforma un array a lista. Es un método.\n",
    "\n",
    "matriz.tolist()"
   ]
  },
  {
   "cell_type": "code",
   "execution_count": 74,
   "id": "f064ed8b-30f1-4f37-8657-ad658be263a2",
   "metadata": {
    "tags": []
   },
   "outputs": [
    {
     "data": {
      "text/plain": [
       "(array([ 6,  8, 10, 11]),)"
      ]
     },
     "execution_count": 74,
     "metadata": {},
     "output_type": "execute_result"
    }
   ],
   "source": [
    "# np.where() retorna los elementos filtrados de un array.\n",
    "# En este ejemplo va a retornar los elementos mayor a 7.\n",
    "\n",
    "np.where(array > 7)"
   ]
  },
  {
   "cell_type": "code",
   "execution_count": 44,
   "id": "6f230006-0949-44a7-ba6a-ca8543a70749",
   "metadata": {
    "tags": []
   },
   "outputs": [
    {
     "data": {
      "text/plain": [
       "array([[1, 0, 0, 0, 0],\n",
       "       [0, 0, 2, 0, 0],\n",
       "       [1, 1, 0, 0, 1],\n",
       "       [2, 1, 1, 1, 0],\n",
       "       [1, 2, 1, 2, 2]])"
      ]
     },
     "execution_count": 44,
     "metadata": {},
     "output_type": "execute_result"
    }
   ],
   "source": [
    "matriz"
   ]
  },
  {
   "cell_type": "code",
   "execution_count": 45,
   "id": "05909478-9ff5-4019-bfca-7ebeac1b01dd",
   "metadata": {
    "tags": []
   },
   "outputs": [
    {
     "data": {
      "text/plain": [
       "(array([1, 3, 4, 4, 4]), array([2, 0, 1, 3, 4]))"
      ]
     },
     "execution_count": 45,
     "metadata": {},
     "output_type": "execute_result"
    }
   ],
   "source": [
    "# En el caso de ser una matriz, retornará 2 arrays\n",
    "# El primero indica la posición en las filas y el segundo la posición en las columnas\n",
    "\n",
    "np.where(matriz > 1)"
   ]
  },
  {
   "cell_type": "markdown",
   "id": "fd3b3064",
   "metadata": {},
   "source": [
    "### Creación de arrays\n",
    "\n",
    "Existen varias funciones para inicializar matrices o arrays:\n",
    "\n",
    "| Función                | Descripción                                                                       |\n",
    "|------------------------|-----------------------------------------------------------------------------------|\n",
    "|**np.empty((n, m))**    | Inicializa una matriz $nxm$ vacia.                                                |\n",
    "|**np.zeros((n, m))**    | Inicializa una matriz $nxm$ de ceros.                                             |\n",
    "|**np.ones((n, m))**     | Inicializa una matriz $nxm$ de unos.                                              |\n",
    "|**np.eye(n)**           | Inicializa la matriz identidad de orden $n$.                                      |\n",
    "|**np.identity(n)**      | Inicializa la matriz identidad de orden $n$.                                      |\n",
    "|**np.full(shape, elem)**| Inicializa una matriz con la forma de **shape** usando los elementos de **elem**. |\n",
    "|**np.linspace(a, b, p)**| Inicializa un array de **p** elementos entre **a** y **b**, todos **x-distantes**.|"
   ]
  },
  {
   "cell_type": "code",
   "execution_count": 46,
   "id": "2aac080b",
   "metadata": {},
   "outputs": [
    {
     "name": "stdout",
     "output_type": "stream",
     "text": [
      "[[      1472540369320                 160                   0\n",
      "                    0   27303570957139968]\n",
      " [4189017755886035579 3419490394216495904 2322206415472651376\n",
      "  3184080310729661218 3467820298285101088]\n",
      " [3184145131399556189 3467820306875035680 2336906602263617580\n",
      "  3467820302580068699 3196765324752986156]\n",
      " [3539877901902048860 2318281922439094316 3556471989104041264\n",
      "  2318281922439159852 9016872058803465266]\n",
      " [7233190455505199148 9041856110933406817 8458716092899139628\n",
      "  8462091486378289524 9021330316595459182]]\n"
     ]
    }
   ],
   "source": [
    "# Aunque muestre numeros dentro de la matriz, np.empty() la inicializa vacia\n",
    "# Estos números que se ven estan en memoria y numpy los usa para mostrar la matriz\n",
    "\n",
    "empty = np.empty(shape = (5, 5), dtype = \"int\")\n",
    "\n",
    "print(empty)"
   ]
  },
  {
   "cell_type": "code",
   "execution_count": 47,
   "id": "7efe5c70",
   "metadata": {},
   "outputs": [
    {
     "name": "stdout",
     "output_type": "stream",
     "text": [
      "[[1 1 1 1 1]\n",
      " [1 1 1 1 1]\n",
      " [1 1 1 1 1]\n",
      " [1 1 1 1 1]\n",
      " [1 1 1 1 1]]\n"
     ]
    }
   ],
   "source": [
    "# Inicializa una matriz de 1's.\n",
    "\n",
    "ones = np.ones(shape = (5, 5), dtype = \"int8\")\n",
    "\n",
    "print(ones)"
   ]
  },
  {
   "cell_type": "code",
   "execution_count": 48,
   "id": "3afe6662",
   "metadata": {},
   "outputs": [
    {
     "name": "stdout",
     "output_type": "stream",
     "text": [
      "[[0 0 0 0 0]\n",
      " [0 0 0 0 0]\n",
      " [0 0 0 0 0]\n",
      " [0 0 0 0 0]\n",
      " [0 0 0 0 0]]\n"
     ]
    }
   ],
   "source": [
    "# Inicializa una matriz de 0's.\n",
    "\n",
    "zeros = np.zeros(shape = (5, 5), dtype = \"int8\")\n",
    "\n",
    "print(zeros)"
   ]
  },
  {
   "cell_type": "code",
   "execution_count": 49,
   "id": "b0faa89f",
   "metadata": {},
   "outputs": [
    {
     "data": {
      "text/plain": [
       "array([[1., 0., 0., 0., 0.],\n",
       "       [0., 1., 0., 0., 0.],\n",
       "       [0., 0., 1., 0., 0.],\n",
       "       [0., 0., 0., 1., 0.],\n",
       "       [0., 0., 0., 0., 1.]])"
      ]
     },
     "execution_count": 49,
     "metadata": {},
     "output_type": "execute_result"
    }
   ],
   "source": [
    "# Matriz identidad\n",
    "\n",
    "np.eye(5)"
   ]
  },
  {
   "cell_type": "code",
   "execution_count": 50,
   "id": "d1ccc458",
   "metadata": {},
   "outputs": [
    {
     "name": "stdout",
     "output_type": "stream",
     "text": [
      "[[0 1 2 3 4]\n",
      " [0 1 2 3 4]\n",
      " [0 1 2 3 4]\n",
      " [0 1 2 3 4]\n",
      " [0 1 2 3 4]]\n"
     ]
    }
   ],
   "source": [
    "# np.full() crea una lista con forma \"shape\" y la llena con un iterable.\n",
    "\n",
    "full = np.full(shape = (5, 5), fill_value = range(5))\n",
    "\n",
    "print(full)"
   ]
  },
  {
   "cell_type": "code",
   "execution_count": 51,
   "id": "5ff662d1",
   "metadata": {},
   "outputs": [
    {
     "name": "stdout",
     "output_type": "stream",
     "text": [
      "[ 1.          1.73333333  2.46666667  3.2         3.93333333  4.66666667\n",
      "  5.4         6.13333333  6.86666667  7.6         8.33333333  9.06666667\n",
      "  9.8        10.53333333 11.26666667 12.        ]\n"
     ]
    }
   ],
   "source": [
    "# np.linspace(a, b, p) crea un array de \"p\" elementos entre \"a\" y \"b\", todos x-distantes\n",
    "\n",
    "linspace = np.linspace(start = 1, stop = 12, num = 16)\n",
    "\n",
    "print(linspace)"
   ]
  },
  {
   "cell_type": "markdown",
   "id": "ae907e98",
   "metadata": {},
   "source": [
    "### Números aleatorios en NumPy\n",
    "\n",
    "|Función                             |Descripción                                                                                                                                                  |\n",
    "|------------------------------------|-------------------------------------------------------------------------------------------------------------------------------------------------------------|\n",
    "|**np.random.random(n)**           | Genera un número aleatorio entre 0 y 1, si damos el parametro **n** genera una lista de **n** elementos aleatorios entre 0 y 1, solo genera vectores.|\n",
    "|**np.random.randn(shape)**        | Genera un array de forma **shape** con números aleatorios. Estos números siguen una distribución normal.                                                      |\n",
    "|**no.random.randint(a, b, size)** | Genera un array de tamaño **size** con numeros enteros aleatorios entre **a** y **b**.                                                                        |\n",
    "|**np.random.choice(obj, size, p)**| Genera un array de tamaño **size** con los elementos de **obj**, se le pueden dar pesos a los elementos usando **p**, retorna elementos repetidos.            |\n",
    "|**np.random.seed(n)**             | Genera una semilla.                                                                                                                                            |\n",
    "|**np.random.RandomState(n)**      | Genera una semilla.                                                                                                                                            |"
   ]
  },
  {
   "cell_type": "code",
   "execution_count": 52,
   "id": "c8ed8fa8",
   "metadata": {},
   "outputs": [
    {
     "name": "stdout",
     "output_type": "stream",
     "text": [
      "0.7016115889753561\n",
      "------------------------------\n",
      "[0.68964923 0.19261587 0.77299464 0.28577091 0.38071809]\n",
      "------------------------------\n",
      "[[0.01197418 0.46843089 0.76633194 0.53994737 0.9598987 ]\n",
      " [0.49080733 0.46323625 0.69254168 0.67176851 0.11888879]\n",
      " [0.8846915  0.45019464 0.60315302 0.51337424 0.83106546]\n",
      " [0.50364499 0.78113218 0.46119494 0.608718   0.98062358]\n",
      " [0.5363337  0.08456028 0.13617852 0.85967311 0.32723687]]\n"
     ]
    }
   ],
   "source": [
    "# np.random.random() retorna un número entre 0 y 1\n",
    "# Se puede utilizar para crear arrays de 1, 2 o n-dimensiones\n",
    "\n",
    "print(np.random.random())\n",
    "\n",
    "print(\"-\"*30)\n",
    "\n",
    "print(np.random.random(size = 5))\n",
    "\n",
    "print(\"-\"*30)\n",
    "\n",
    "print(np.random.random(size = (5, 5)))"
   ]
  },
  {
   "cell_type": "code",
   "execution_count": 53,
   "id": "250d0d26",
   "metadata": {},
   "outputs": [
    {
     "name": "stdout",
     "output_type": "stream",
     "text": [
      "-0.2801192248557522\n",
      "------------------------------\n",
      "[[ 0.60687547  0.62727269 -0.62603452]\n",
      " [ 0.59901583 -0.02050748  1.14538373]]\n"
     ]
    }
   ],
   "source": [
    "# np.random.randn() retorna un número aleatorio de una distribución normal\n",
    "# La distribución tiene mean = 0 y std = 1\n",
    "\n",
    "print(np.random.randn())\n",
    "\n",
    "print(\"-\"*30)\n",
    "\n",
    "print(np.random.randn(2, 3))"
   ]
  },
  {
   "cell_type": "code",
   "execution_count": 54,
   "id": "deb7b024",
   "metadata": {},
   "outputs": [
    {
     "name": "stdout",
     "output_type": "stream",
     "text": [
      "8\n",
      "------------------------------\n",
      "[[4 1 6 4 9]\n",
      " [5 8 1 2 9]\n",
      " [7 1 3 1 8]\n",
      " [5 6 2 4 2]\n",
      " [6 7 3 6 8]]\n"
     ]
    }
   ],
   "source": [
    "# np.random.randint() retorna números enteros\n",
    "# No incluye el límite superior\n",
    "\n",
    "print(np.random.randint(0, 10))\n",
    "\n",
    "print(\"-\"*30)\n",
    "\n",
    "print(np.random.randint(1, 10, size = (5, 5)))"
   ]
  },
  {
   "cell_type": "code",
   "execution_count": 55,
   "id": "8f34224a",
   "metadata": {},
   "outputs": [
    {
     "name": "stdout",
     "output_type": "stream",
     "text": [
      "['e' 'a' 'a' 'a' 'a' 'a' 'o' 'o' 'a' 'u']\n"
     ]
    }
   ],
   "source": [
    "# np.random.choice() retorna un array de elementos aleatorios\n",
    "# Se puede dar pesos a las probabilidades\n",
    "\n",
    "print(np.random.choice(a    = [\"a\", \"e\", \"i\", \"o\", \"u\"],\n",
    "                       size = 10,\n",
    "                       p    = [0.6, 0.1, 0.1, 0.1, 0.1])) "
   ]
  },
  {
   "cell_type": "code",
   "execution_count": 56,
   "id": "fcaa9040",
   "metadata": {},
   "outputs": [
    {
     "name": "stdout",
     "output_type": "stream",
     "text": [
      "1.764052345967664\n",
      "1.764052345967664\n",
      "1.764052345967664\n",
      "1.764052345967664\n",
      "1.764052345967664\n"
     ]
    }
   ],
   "source": [
    "# np.seed() indica la aleatoriedad que usará NumPy\n",
    "\n",
    "# En este ejemplo np.seed() afecta a todos los np.random.randn()\n",
    "\n",
    "for i in range(5):\n",
    "    \n",
    "    np.random.seed(0)\n",
    "    \n",
    "    print(np.random.randn())"
   ]
  },
  {
   "cell_type": "code",
   "execution_count": 57,
   "id": "58d548ef-7f8e-4ec8-92e4-38c069be6a00",
   "metadata": {
    "tags": []
   },
   "outputs": [
    {
     "name": "stdout",
     "output_type": "stream",
     "text": [
      "1.764052345967664\n",
      "0.4001572083672233\n",
      "0.9787379841057392\n",
      "2.240893199201458\n",
      "1.8675579901499675\n"
     ]
    }
   ],
   "source": [
    "# En este ejemplo np.seed() solo se aplica al primer np.random.randn()\n",
    "\n",
    "np.random.seed(0)\n",
    "\n",
    "for i in range(5):\n",
    "    \n",
    "    print(np.random.randn())"
   ]
  },
  {
   "cell_type": "code",
   "execution_count": 58,
   "id": "fb4f05fb-6f0f-4509-a09d-7f89744c967f",
   "metadata": {
    "tags": []
   },
   "outputs": [
    {
     "name": "stdout",
     "output_type": "stream",
     "text": [
      "0.43599490214200376\n",
      "8\n",
      "-0.977277879876411\n",
      "------------------------------\n",
      "0.43599490214200376\n",
      "8\n",
      "0.9500884175255894\n",
      "------------------------------\n",
      "0.43599490214200376\n",
      "8\n",
      "-0.1513572082976979\n",
      "------------------------------\n",
      "0.43599490214200376\n",
      "8\n",
      "-0.10321885179355784\n",
      "------------------------------\n"
     ]
    }
   ],
   "source": [
    "# np.random.RandomState() genera una semilla al igual que np.seed()\n",
    "# Se diferencia porque puede ser usado para generar número aleatorios sin modificar la aleatoriedad del resto de funciones \n",
    "\n",
    "for i in range(4):\n",
    "    \n",
    "    rs = np.random.RandomState(2)\n",
    "    \n",
    "    print(rs.rand())\n",
    "    print(rs.randint(0, 10))\n",
    "    \n",
    "    print(np.random.randn()) # No usa np.random.RandomState()\n",
    "    \n",
    "    print(\"-\"*30)    "
   ]
  },
  {
   "cell_type": "code",
   "execution_count": 59,
   "id": "d6263c75",
   "metadata": {},
   "outputs": [],
   "source": [
    "################################################################################################################################"
   ]
  }
 ],
 "metadata": {
  "kernelspec": {
   "display_name": ".mod3",
   "language": "python",
   "name": "python3"
  },
  "language_info": {
   "codemirror_mode": {
    "name": "ipython",
    "version": 3
   },
   "file_extension": ".py",
   "mimetype": "text/x-python",
   "name": "python",
   "nbconvert_exporter": "python",
   "pygments_lexer": "ipython3",
   "version": "3.13.0"
  }
 },
 "nbformat": 4,
 "nbformat_minor": 5
}
