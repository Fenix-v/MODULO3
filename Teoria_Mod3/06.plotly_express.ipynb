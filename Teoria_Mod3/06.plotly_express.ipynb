{
 "cells": [
  {
   "cell_type": "markdown",
   "id": "42f4e847",
   "metadata": {},
   "source": [
    "## plotly\n",
    "\n",
    "**`plotly`** es una librería que crea gráficos interactivos de alta calidad.\n",
    "\n",
    "```html\n",
    "pip install plotly\n",
    "```\n",
    "\n",
    "_**Documentación: https://plotly.com/python-api-reference/**_\n",
    "\n",
    "\n",
    "|Función                   |Descripción              |\n",
    "|--------------------------|-------------------------|\n",
    "|**`px.strip()`**          |Gráfica de \"tiras\".      |\n",
    "|**`px.histogram()`**      |Histograma.              |\n",
    "|**`px.bar()`**            |Gráfico de barras.       |\n",
    "|**`px.sunburst()`**       |Gráfico de \"sol\".        |\n",
    "|**`px.treemap()`**        |Gráfico de mapa de árbol.|\n",
    "|**`px.line()`**           |Gráfica de rectas.       |\n",
    "|**`px.scatter()`**        |Gráfica de dispersión.   |\n",
    "|**`px.box()`**            |Gráfica de cajas.        |\n",
    "|**`px.violin()`**         |Gráfica de violin.       |\n",
    "|**`px.pie()`**            |Gráfica de sectores.     |\n",
    "|**`px.imshow()`**         |Gráfico de calor.        |\n",
    "|**`px.scatter_ternary()`**|Grafico de 3 variables.  |\n",
    "|**`px.scatter_3d()`**     |Gráfico en 3D.           |"
   ]
  },
  {
   "cell_type": "code",
   "execution_count": null,
   "id": "fc070f03",
   "metadata": {},
   "outputs": [],
   "source": [
    "import numpy as np\n",
    "import pandas as pd\n",
    "\n",
    "import plotly # Para ver la versión\n",
    "import plotly.express as px"
   ]
  },
  {
   "cell_type": "code",
   "execution_count": null,
   "id": "ec46f90d-a0d4-4ded-92f6-166b1f133714",
   "metadata": {},
   "outputs": [],
   "source": [
    "# Versiones\n",
    "\n",
    "print(f\"numpy=={np.__version__}\")\n",
    "print(f\"pandas=={pd.__version__}\")\n",
    "print(f\"plotly=={plotly.__version__}\")"
   ]
  },
  {
   "cell_type": "markdown",
   "id": "ac056f40",
   "metadata": {},
   "source": [
    "#### Data"
   ]
  },
  {
   "cell_type": "code",
   "execution_count": null,
   "id": "7a191799",
   "metadata": {},
   "outputs": [],
   "source": [
    "%%time\n",
    "\n",
    "df = pd.read_csv(\"../Data/co2_emissions.csv\").sample(5000)\n",
    "df"
   ]
  },
  {
   "cell_type": "markdown",
   "id": "3f164554",
   "metadata": {},
   "source": [
    "#### Strip Plot\n",
    "**`px.strip()`**"
   ]
  },
  {
   "cell_type": "code",
   "execution_count": null,
   "id": "911bb68b",
   "metadata": {},
   "outputs": [],
   "source": [
    "px.strip(data_frame = df[df[\"Make\"] == \"BMW\"],\n",
    "         x          = \"Fuel Consumption Comb\",\n",
    "         y          = \"Fuel Type\",\n",
    "         color      = \"Vehicle Class\",\n",
    "         hover_data = df.columns)"
   ]
  },
  {
   "cell_type": "markdown",
   "id": "e7faf786",
   "metadata": {},
   "source": [
    "#### Histogram\n",
    "**`px.histogram()`**"
   ]
  },
  {
   "cell_type": "code",
   "execution_count": null,
   "id": "ded7987b",
   "metadata": {},
   "outputs": [],
   "source": [
    "px.histogram(data_frame = df, \n",
    "             x          = \"CO2 Emissions\",\n",
    "             nbins      = 100)"
   ]
  },
  {
   "cell_type": "code",
   "execution_count": null,
   "id": "9b03becd",
   "metadata": {},
   "outputs": [],
   "source": [
    "px.histogram(data_frame = df, \n",
    "             x          = \"CO2 Emissions\",\n",
    "             color      = \"Fuel Type\",\n",
    "             nbins      = 200)"
   ]
  },
  {
   "cell_type": "code",
   "execution_count": null,
   "id": "53ab25a1",
   "metadata": {},
   "outputs": [],
   "source": [
    "px.histogram(data_frame = df, \n",
    "             x          = \"CO2 Emissions\",\n",
    "             color      = \"Fuel Type\",\n",
    "             facet_col  = \"Fuel Type\",\n",
    "             nbins      = 50)"
   ]
  },
  {
   "cell_type": "code",
   "execution_count": null,
   "id": "0e799ce3",
   "metadata": {},
   "outputs": [],
   "source": [
    "px.histogram(data_frame = df, \n",
    "             x          = \"CO2 Emissions\",\n",
    "             y          = \"Fuel Consumption Comb\",\n",
    "             color      = \"Fuel Type\",\n",
    "             hover_data = [\"Fuel Type\"],\n",
    "             marginal   = \"rug\",\n",
    "             nbins      = 50)"
   ]
  },
  {
   "cell_type": "code",
   "execution_count": null,
   "id": "2567ff6a",
   "metadata": {},
   "outputs": [],
   "source": [
    "px.histogram(data_frame = df, \n",
    "             x          = \"CO2 Emissions\",\n",
    "             y          = \"Fuel Consumption Comb\",\n",
    "             color      = \"Fuel Type\",\n",
    "             hover_data = [\"Fuel Type\"],\n",
    "             nbins      = 50,\n",
    "             facet_row  = \"Fuel Type\"\n",
    "            )"
   ]
  },
  {
   "cell_type": "markdown",
   "id": "fd079177",
   "metadata": {},
   "source": [
    "#### Bar plot\n",
    "**`px.bar()`**"
   ]
  },
  {
   "cell_type": "code",
   "execution_count": null,
   "id": "21aa7205",
   "metadata": {},
   "outputs": [],
   "source": [
    "px.bar(data_frame = df[df[\"Make\"] == \"BMW\"][df[\"Model Year\"] == 2023].sort_values(\"Fuel Consumption Comb\", ascending = False),\n",
    "       x          = \"Model\",\n",
    "       y          = \"Fuel Consumption Comb\",\n",
    "       hover_data = [\"Fuel Consumption City\", \"Fuel Consumption Hwy\", \"Engine Size\"],\n",
    "       color      = \"Transmission\"\n",
    "      )"
   ]
  },
  {
   "cell_type": "markdown",
   "id": "5551d260",
   "metadata": {},
   "source": [
    "#### Sunburst Chart\n",
    "**`px.sunburst()`**"
   ]
  },
  {
   "cell_type": "code",
   "execution_count": null,
   "id": "e89c211d",
   "metadata": {},
   "outputs": [],
   "source": [
    "fig = px.sunburst(data_frame = df[df[\"Make\"] == \"MERCEDES-BENZ\"].sort_values(\"Model Year\"),\n",
    "                  values     = \"Engine Size\",\n",
    "                  path       = [\"Fuel Type\", \"Model Year\", \"Model\"],\n",
    "                  hover_name = \"Model Year\",\n",
    "                  color      = \"Model\")\n",
    "\n",
    "# fig.update_traces(textinfo = \"label+percent parent\")\n",
    "\n",
    "fig"
   ]
  },
  {
   "cell_type": "markdown",
   "id": "8bd67fe6",
   "metadata": {},
   "source": [
    "#### Treemap plot\n",
    "**`px.treemap()`**"
   ]
  },
  {
   "cell_type": "code",
   "execution_count": null,
   "id": "2a8119a4",
   "metadata": {},
   "outputs": [],
   "source": [
    "# Airbnb - Mismos parámetros de sunburst\n",
    "\n",
    "px.treemap(data_frame = df,\n",
    "           values     = \"Fuel Consumption Comb\",\n",
    "           path       = [\"Make\", \"Model Year\", \"Model\"],\n",
    "           hover_name = \"Model\",\n",
    "           color      = \"Model\")"
   ]
  },
  {
   "cell_type": "markdown",
   "id": "4482d354",
   "metadata": {},
   "source": [
    "#### Line Plot\n",
    "**`px.line()`**"
   ]
  },
  {
   "cell_type": "code",
   "execution_count": null,
   "id": "14318ba9",
   "metadata": {},
   "outputs": [],
   "source": [
    "px.line(data_frame = df.groupby(\"Model Year\").mean(numeric_only=True).reset_index(),\n",
    "        x = \"Model Year\",\n",
    "        y = \"Engine Size\",\n",
    "        hover_data = [\"CO2 Emissions\", \"Fuel Consumption Comb\"]\n",
    "       )"
   ]
  },
  {
   "cell_type": "code",
   "execution_count": null,
   "id": "0b54ef7f",
   "metadata": {},
   "outputs": [],
   "source": [
    "px.line(data_frame = df.groupby([\"Fuel Type\", \"Model Year\"]).mean(numeric_only=True).reset_index(),\n",
    "        x = \"Model Year\",\n",
    "        y = \"Fuel Consumption Comb\",\n",
    "        hover_data = [\"Engine Size\", \"CO2 Emissions\"],\n",
    "        color = \"Fuel Type\"\n",
    "       )"
   ]
  },
  {
   "cell_type": "markdown",
   "id": "e2bcdcf6",
   "metadata": {},
   "source": [
    "#### Scatter Plot\n",
    "**`px.scatter()`**"
   ]
  },
  {
   "cell_type": "code",
   "execution_count": null,
   "id": "ef61c57f",
   "metadata": {},
   "outputs": [],
   "source": [
    "px.scatter(data_frame  = df,\n",
    "           x           = \"Fuel Consumption Comb\",\n",
    "           y           = \"CO2 Emissions\",\n",
    "           color       = \"Fuel Type\",\n",
    "           hover_name  = \"Model\",)"
   ]
  },
  {
   "cell_type": "code",
   "execution_count": null,
   "id": "a0c767ec",
   "metadata": {},
   "outputs": [],
   "source": [
    "px.scatter(data_frame  = df,\n",
    "           x           = \"Fuel Consumption Comb\",\n",
    "           y           = \"CO2 Emissions\",\n",
    "           color       = \"Fuel Type\",\n",
    "           hover_name  = \"Model\",\n",
    "           opacity     = 0.1,\n",
    "           size        = \"Engine Size\",\n",
    "           size_max    = 30,\n",
    "          )"
   ]
  },
  {
   "cell_type": "markdown",
   "id": "d03a7f3b",
   "metadata": {},
   "source": [
    "#### Box Plot\n",
    "**`px.box()`**"
   ]
  },
  {
   "cell_type": "code",
   "execution_count": null,
   "id": "1200e754",
   "metadata": {},
   "outputs": [],
   "source": [
    "px.box(data_frame = df,\n",
    "       x          = \"Cylinders\",\n",
    "       y          = \"CO2 Emissions\",\n",
    "       color      = \"Cylinders\",\n",
    "       facet_col  = \"Fuel Type\",\n",
    "       points     = \"suspectedoutliers\",\n",
    "       hover_name = \"Make\",\n",
    "       hover_data = [\"Model\", \"Model Year\"]\n",
    "      )\n",
    "\n",
    "# points : 'outliers', 'suspectedoutliers', 'all', False"
   ]
  },
  {
   "cell_type": "markdown",
   "id": "a9d8c0eb",
   "metadata": {},
   "source": [
    "#### Violin Plot\n",
    "**`px.violin()`**"
   ]
  },
  {
   "cell_type": "code",
   "execution_count": null,
   "id": "7cb645d7",
   "metadata": {},
   "outputs": [],
   "source": [
    "px.violin(data_frame = df,\n",
    "       x          = \"Fuel Type\",\n",
    "       y          = \"CO2 Emissions\",\n",
    "       color      = \"Fuel Type\",\n",
    "       points     = \"suspectedoutliers\",\n",
    "       hover_name = \"Make\",\n",
    "       hover_data = [\"Model\", \"Model Year\"]\n",
    "      )"
   ]
  },
  {
   "cell_type": "markdown",
   "id": "cc7edb28",
   "metadata": {},
   "source": [
    "#### Pie Plot\n",
    "**`px.pie()`**"
   ]
  },
  {
   "cell_type": "code",
   "execution_count": null,
   "id": "3ab7c515",
   "metadata": {},
   "outputs": [],
   "source": [
    "px.pie(data_frame = df,\n",
    "       names      = \"Fuel Type\")"
   ]
  },
  {
   "cell_type": "code",
   "execution_count": null,
   "id": "6077ae18",
   "metadata": {},
   "outputs": [],
   "source": [
    "px.pie(data_frame = df,\n",
    "       names      = \"Fuel Type\",\n",
    "       values     = \"Fuel Consumption City\",\n",
    "       hole = 0.3\n",
    "      )"
   ]
  },
  {
   "cell_type": "markdown",
   "id": "81f30ab9",
   "metadata": {},
   "source": [
    "#### Heatmap Plot\n",
    "**`px.imshow()`**"
   ]
  },
  {
   "cell_type": "code",
   "execution_count": null,
   "id": "fe1163ad",
   "metadata": {},
   "outputs": [],
   "source": [
    "columns = [\"Fuel Consumption City\", \"Fuel Consumption Hwy\", \"CO2 Emissions\", \"Engine Size\"]\n",
    "\n",
    "px.imshow(img       = df[columns].corr(),\n",
    "          text_auto = True)"
   ]
  },
  {
   "cell_type": "markdown",
   "id": "96d3379e",
   "metadata": {},
   "source": [
    "#### Guardar Figura\n",
    "\n",
    "**`fig.write_image()`**\n",
    "\n",
    "**`fig.write_html()`**\n",
    "\n",
    "**`fig.write_json()`**\n",
    "\n",
    "\n",
    "**Nota**: Para poder usar estos métodos debemos tener instalado la librería **`kaleido`**.\n",
    "\n",
    "```html\n",
    "pip install kaleido\n",
    "```"
   ]
  },
  {
   "cell_type": "code",
   "execution_count": null,
   "id": "75c5fdf5",
   "metadata": {},
   "outputs": [],
   "source": [
    "fig = px.scatter(data_frame  = df,\n",
    "                 x           = \"Fuel Consumption Comb\",\n",
    "                 y           = \"CO2 Emissions\",\n",
    "                 color       = \"Fuel Type\",\n",
    "                 hover_name  = \"Model\",\n",
    "                 opacity     = 0.1,\n",
    "                 size        = \"Engine Size\",\n",
    "                 size_max    = 30,\n",
    "          )\n",
    "\n",
    "fig.write_image(\"co2_bubble_chart.svg\") # imagen estática\n",
    "fig.write_html(\"co2_bubble_chart.html\") # html interactivo\n",
    "fig.write_json(\"co2_bubble_chart.json\") # archivo json"
   ]
  },
  {
   "cell_type": "code",
   "execution_count": null,
   "id": "0a7ecce4",
   "metadata": {
    "scrolled": true
   },
   "outputs": [],
   "source": [
    "import json\n",
    "from pprint import pprint\n",
    "\n",
    "with open(\"co2_bubble_chart.json\", \"r\") as file:\n",
    "    data = json.load(file)\n",
    "    \n",
    "pprint(data)"
   ]
  },
  {
   "cell_type": "markdown",
   "id": "a9d809fd",
   "metadata": {},
   "source": [
    "#### Scatter Ternary\n",
    "**`px.scatter_ternary()`**"
   ]
  },
  {
   "cell_type": "code",
   "execution_count": null,
   "id": "0b45b0c9",
   "metadata": {},
   "outputs": [],
   "source": [
    "df_ = pd.read_excel(\"../Data/DatosMadrid.xlsx\")\n",
    "\n",
    "df_ = df_[~df_[\"Barrios\"].isna()]\n",
    "\n",
    "df_\n",
    "\n",
    "px.scatter_ternary(data_frame = df_,\n",
    "                   a          = \"0-15 años\",\n",
    "                   b          = \"16-64 años\",\n",
    "                   c          = \"65 o más años\",\n",
    "                   size       = \"Densidad\",\n",
    "                   hover_name = \"Barrios\",\n",
    "                   hover_data = [\"Distrito\", \"Densidad\", \"Superficie\", \"Población\"],\n",
    "                   color      = \"Distrito\"\n",
    "                  )"
   ]
  },
  {
   "cell_type": "markdown",
   "id": "97cfe004",
   "metadata": {},
   "source": [
    "#### Scatter 3D\n",
    "**`px.scatter_3d`**"
   ]
  },
  {
   "cell_type": "code",
   "execution_count": null,
   "id": "33d8cde1",
   "metadata": {},
   "outputs": [],
   "source": [
    "px.scatter_3d(data_frame = df,\n",
    "              x          = \"Fuel Consumption City\",\n",
    "              y          = \"Fuel Consumption Hwy\",\n",
    "              z          = \"CO2 Emissions\",\n",
    "              size       = \"Engine Size\",\n",
    "              hover_name = \"Make\",\n",
    "              hover_data = [\"Model\", \"Model Year\"],\n",
    "              color      = \"Fuel Type\"\n",
    "              )"
   ]
  },
  {
   "cell_type": "code",
   "execution_count": null,
   "id": "18218d76",
   "metadata": {},
   "outputs": [],
   "source": [
    "################################################################################################################################"
   ]
  }
 ],
 "metadata": {
  "kernelspec": {
   "display_name": "Python 3 (ipykernel)",
   "language": "python",
   "name": "python3"
  },
  "language_info": {
   "codemirror_mode": {
    "name": "ipython",
    "version": 3
   },
   "file_extension": ".py",
   "mimetype": "text/x-python",
   "name": "python",
   "nbconvert_exporter": "python",
   "pygments_lexer": "ipython3",
   "version": "3.12.3"
  }
 },
 "nbformat": 4,
 "nbformat_minor": 5
}
