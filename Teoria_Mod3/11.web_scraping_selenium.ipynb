{
 "cells": [
  {
   "cell_type": "markdown",
   "id": "9201eda6",
   "metadata": {},
   "source": [
    "## Selenium\n",
    "\n",
    "**`Selenium WebDriver`** es una herramienta para recopilar datos de los sitios web y simular las interacciones del usuario.\n",
    "\n",
    "```python\n",
    "pip install selenium\n",
    "```\n",
    "\n",
    "*__Documentación__: https://selenium-python.readthedocs.io/index.html*\n",
    "\n",
    "Para utilizar **`selenium`** debemos tener el archivo **`chromedriver.exe`** si estamos usando Chrome. Este se puede descargar desde la documentación, hay que descargar el **`chromedriver.exe`** que sea compatible con la versión de nuestro navegador."
   ]
  },
  {
   "cell_type": "code",
   "execution_count": null,
   "id": "a8139cbc",
   "metadata": {},
   "outputs": [],
   "source": [
    "import requests \n",
    "\n",
    "import bs4 # Para ver la versión\n",
    "from bs4 import BeautifulSoup\n",
    "\n",
    "import selenium # Para ver la versión\n",
    "from selenium import webdriver\n",
    "from selenium.webdriver.common.by import By\n",
    "\n",
    "from time import sleep"
   ]
  },
  {
   "cell_type": "code",
   "execution_count": null,
   "id": "5853b819",
   "metadata": {},
   "outputs": [],
   "source": [
    "# Versiones\n",
    "\n",
    "print(f\"requests=={requests.__version__}\")\n",
    "print(f\"bs4=={bs4.__version__}\")\n",
    "print(f\"selenium=={selenium.__version__}\")"
   ]
  },
  {
   "cell_type": "code",
   "execution_count": null,
   "id": "7aa1ff77",
   "metadata": {},
   "outputs": [],
   "source": [
    "# Driver de Chrome\n",
    "\n",
    "chrome_driver = \"chromedriver.exe\""
   ]
  },
  {
   "cell_type": "code",
   "execution_count": null,
   "id": "d0ef31ad",
   "metadata": {},
   "outputs": [],
   "source": [
    "# Ejecutar webdriver.Chrome abrirá una ventana nueva en el navegador \n",
    "# A traves de esta ventana podremos seguir usando selenium\n",
    "\n",
    "browser = webdriver.Chrome()\n",
    "\n",
    "browser.get(\"https://google.com\")\n",
    "\n",
    "browser.maximize_window()"
   ]
  },
  {
   "cell_type": "markdown",
   "id": "ccfa847f",
   "metadata": {},
   "source": [
    "Para \"encontrar\" los elementos de una página web podemos usar sus características. Usando las herramientas del navegador podemos elegir cual usar, los métodos para buscar son:\n",
    "\n",
    "\n",
    "|Método                                     |\n",
    "|-------------------------------------------|\n",
    "|**`.find_element(by, value)`**             |\n",
    "|**`.find_elements(by, value)`**            |\n",
    "\n",
    "Y los posibles elementos para filtrar en el parámetro **by** son:\n",
    "\n",
    "|Filtro                                     |\n",
    "|-------------------------------------------|\n",
    "|**`By.NAME`**              |\n",
    "|**`By.XPATH`**             |\n",
    "|**`By.LINK_TEXT`**         |\n",
    "|**`By.PARTIAL_LINK_TEXT`** |\n",
    "|**`By.TAG_NAME`**          |\n",
    "|**`By.CLASS_NAME`**        |\n",
    "|**`By.CSS_SELECTOR`**      |"
   ]
  },
  {
   "cell_type": "code",
   "execution_count": null,
   "id": "35cd8424",
   "metadata": {
    "scrolled": true
   },
   "outputs": [],
   "source": [
    "# Aceptamos los términos de google\n",
    "\n",
    "#L2AGLb > div\n",
    "\n",
    "browser.find_element(by = By.CSS_SELECTOR, value = \"#L2AGLb > div\").click()"
   ]
  },
  {
   "cell_type": "code",
   "execution_count": null,
   "id": "83859267",
   "metadata": {
    "scrolled": true
   },
   "outputs": [],
   "source": [
    "# En el buscador de google escribimos \"Python\"\n",
    "\n",
    "# Encontramos el buscador\n",
    "buscador = browser.find_element(by = By.CSS_SELECTOR, value = \"#APjFqb\")\n",
    "\n",
    "sleep(1)\n",
    "\n",
    "# .clear() limpia lo que este escrito\n",
    "buscador.clear()\n",
    "\n",
    "sleep(1)\n",
    "\n",
    "# # .send_keys() escribe\n",
    "buscador.send_keys(\"Python\")\n",
    "\n",
    "sleep(1)\n",
    "\n",
    "#.submit() hace submit.\n",
    "buscador.submit()"
   ]
  },
  {
   "cell_type": "code",
   "execution_count": null,
   "id": "03f5a8e1",
   "metadata": {},
   "outputs": [],
   "source": [
    "# .current_url retorna el url de la página del navegador.\n",
    "\n",
    "browser.current_url"
   ]
  },
  {
   "cell_type": "code",
   "execution_count": null,
   "id": "e0c9a2bd",
   "metadata": {},
   "outputs": [],
   "source": [
    "# Con .page_source sacamos el html de esa página\n",
    "\n",
    "browser.page_source"
   ]
  },
  {
   "cell_type": "code",
   "execution_count": null,
   "id": "c067c6f1",
   "metadata": {},
   "outputs": [],
   "source": [
    "# En este punto ya podemos usar BeautifulSoup para sacar la información.\n",
    "\n",
    "soup = BeautifulSoup(browser.page_source, \"html.parser\")"
   ]
  },
  {
   "cell_type": "code",
   "execution_count": null,
   "id": "88c1755a",
   "metadata": {},
   "outputs": [],
   "source": [
    "[x.text for x in soup.find_all(\"h3\")][:-4]"
   ]
  },
  {
   "cell_type": "code",
   "execution_count": null,
   "id": "ed7cb155",
   "metadata": {},
   "outputs": [],
   "source": [
    "# Si queremos ir a la página anterior, podemos hacer:\n",
    "\n",
    "browser.back()"
   ]
  },
  {
   "cell_type": "code",
   "execution_count": null,
   "id": "67077a62",
   "metadata": {},
   "outputs": [],
   "source": [
    "# Y si quisieramos cerrar el navegador:\n",
    "\n",
    "browser.quit()"
   ]
  },
  {
   "cell_type": "markdown",
   "id": "a7125b9f",
   "metadata": {},
   "source": [
    "### Guardar imagenes usando `requests` y `shutil`:"
   ]
  },
  {
   "cell_type": "code",
   "execution_count": null,
   "id": "0cf2008c",
   "metadata": {},
   "outputs": [],
   "source": [
    "import requests\n",
    "\n",
    "import shutil"
   ]
  },
  {
   "cell_type": "code",
   "execution_count": null,
   "id": "4e64ab07",
   "metadata": {},
   "outputs": [],
   "source": [
    "url = \"https://google.com/\"\n",
    "\n",
    "browser = webdriver.Chrome()\n",
    "\n",
    "browser.get(url)\n",
    "\n",
    "sleep(3)\n",
    "\n",
    "soup = BeautifulSoup(browser.page_source, \"html.parser\")"
   ]
  },
  {
   "cell_type": "code",
   "execution_count": null,
   "id": "0f0f7155",
   "metadata": {},
   "outputs": [],
   "source": [
    "img_enlace = soup.find(\"img\", class_ = \"lnXdpd\")[\"srcset\"].split(\",\")[0].split(\" \")[0]\n",
    "\n",
    "img_enlace = f'https://www.google.com{img_enlace}'\n",
    "\n",
    "img_enlace"
   ]
  },
  {
   "cell_type": "code",
   "execution_count": null,
   "id": "9796bb5c",
   "metadata": {},
   "outputs": [],
   "source": [
    "response_img = requests.get(img_enlace, stream = True)\n",
    "\n",
    "with open(\"google.png\", \"bw\") as file:\n",
    "    \n",
    "    response_img.raw.decode_content = True\n",
    "    \n",
    "    shutil.copyfileobj(response_img.raw, file)"
   ]
  },
  {
   "cell_type": "code",
   "execution_count": null,
   "id": "0cc6d203",
   "metadata": {},
   "outputs": [],
   "source": [
    "################################################################################################################################"
   ]
  }
 ],
 "metadata": {
  "kernelspec": {
   "display_name": "Python 3 (ipykernel)",
   "language": "python",
   "name": "python3"
  },
  "language_info": {
   "codemirror_mode": {
    "name": "ipython",
    "version": 3
   },
   "file_extension": ".py",
   "mimetype": "text/x-python",
   "name": "python",
   "nbconvert_exporter": "python",
   "pygments_lexer": "ipython3",
   "version": "3.12.3"
  }
 },
 "nbformat": 4,
 "nbformat_minor": 5
}
