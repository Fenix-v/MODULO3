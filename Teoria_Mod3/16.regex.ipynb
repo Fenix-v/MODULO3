{
 "cells": [
  {
   "cell_type": "markdown",
   "id": "67de028b",
   "metadata": {},
   "source": [
    "## Regular expressions (expresiones regulares) o regex\n",
    "\n",
    "```python\n",
    "import re\n",
    "```\n",
    "\n",
    "Una **`expresión regular`** es una cadena de caracteres que es utilizada para describir o encontrar patrones dentro de otros strings, en base al uso de delimitadores y ciertas reglas de sintaxis.\n",
    "\n",
    "|Función                     | Descripción                                                                |\n",
    "|----------------------------|----------------------------------------------------------------------------|\n",
    "|**`re.search(re, string)`** | Encuentra la primera ocurrencia de un **`re`** en un string.               |\n",
    "|**`re.findall(re, string)`**| Encuentra todas las ocurrencias de un **`re`** en un string.               |\n",
    "|**`re.compile()`**          | Convierte un patron de **`regex`** de **`string`** a un objeto **`regex`**.|\n",
    "|**`re.split(re, string)`**  | Similar a **`.split()`** de python.                                        |\n",
    "|**`re.sub(re, string)`**    | Similar a **`.replace()`** de python.                                      |\n",
    "\n",
    "\n",
    "\n",
    "|regex       | Descripción|\n",
    "|------------|------------|\n",
    "|**`\\`**     | Marca de caractér especial.                                             |\n",
    "|**`.`**     | Cualquier caracter menos salto de linea.                                |\n",
    "|**`\\d`**    | Un dígito (0-9).                                                        |\n",
    "|**`\\D`**    | Alfabético (No dígito (0-9)).                                           |\n",
    "|**`\\w`**    | Cualquier caracter alfanumerico (a-z, A-Z, 0-9, \\_).                    |\n",
    "|**`\\W`**    | Cualquier caracter no alfanumerico.                                     |\n",
    "|**`\\s`**    | Caracter de tipo espacio (espacio, tabulador, salto de linea).          |\n",
    "|**`\\S`**    | Caracter diferente de tipo espacio (espacio, tabulador, salto de linea).|\n",
    "|**`\\b`**    | Principio o final de palabras.                                          |\n",
    "|**`\\B`**    | Opuesto al principio o final de palabras.                               |\n",
    "|**`^`**     | Comienzo de una linea.                                                  |\n",
    "|**`$`**     | Final de una linea.                                                     |\n",
    "|**`[]`**    | Conjunto de caracteres opcionales.                                      |\n",
    "|**`[^ ]`**  | Excluye caracteres opcionales.                                          |\n",
    "|**`\\|`**    | O inclusivo.                                                            |\n",
    "|**`( )`**   | Agrupar caracteres.                                                     |\n",
    "|**`*`**     | 0 o mas.                                                                |\n",
    "|**`+`**     | 1 o mas.                                                                |\n",
    "|**`?`**     | 0 o 1.                                                                  |\n",
    "|**`{3}`**   | Numero exacto.                                                          |\n",
    "|**`{3, 4}`**| Rango de numeros (Minimo, Maximo).                                      |"
   ]
  },
  {
   "cell_type": "code",
   "execution_count": null,
   "id": "55836636",
   "metadata": {},
   "outputs": [],
   "source": [
    "import re"
   ]
  },
  {
   "cell_type": "code",
   "execution_count": null,
   "id": "352e387d",
   "metadata": {},
   "outputs": [],
   "source": [
    "# Para buscar (similar a find de listas)\n",
    "\n",
    "re.search(r\"todos\", \"Buen día a todos\")\n",
    "\n",
    "# Retorna un objeto \"re\" con los indices donde esta la coincidencia"
   ]
  },
  {
   "cell_type": "code",
   "execution_count": null,
   "id": "69502dab",
   "metadata": {},
   "outputs": [],
   "source": [
    "# Para buscar (similar a find)\n",
    "\n",
    "re.search(r\"todos\", \"Buen día a todos\").span(0) \n",
    "\n",
    "# Con span(0) retorna los indices donde esta la coincidencia en una tupla"
   ]
  },
  {
   "cell_type": "code",
   "execution_count": null,
   "id": "1b2411f3",
   "metadata": {},
   "outputs": [],
   "source": [
    "# Realiza una busqueda de todas las ocurrencias\n",
    "\n",
    "re.findall(r\"todos\", \"Buen día a todos. Como todos los días hoy será un gran día\")\n",
    "\n",
    "# Retorna una lista con los elementos que encontró"
   ]
  },
  {
   "cell_type": "code",
   "execution_count": null,
   "id": "9303b425",
   "metadata": {},
   "outputs": [],
   "source": [
    "# Similar a re.findall\n",
    "\n",
    "pattern  = re.compile(\"todos\")\n",
    "\n",
    "pattern.finditer(\"Buen día a todos. Como todos los días hoy será un gran día\")\n",
    "\n",
    "# .finditer() retorna un iterador (similar a un generador)"
   ]
  },
  {
   "cell_type": "code",
   "execution_count": null,
   "id": "dde66fda",
   "metadata": {},
   "outputs": [],
   "source": [
    "pattern  = re.compile(\"todos\")\n",
    "iterador = pattern.finditer(\"Buen día a todos. Como todos los días hoy será un gran día\")\n",
    "\n",
    "for i in iterador:\n",
    "    print(f\"{i}\\n{i.span(0)}\\n{i.group(0)}\")\n",
    "    print(\"*\"*30)"
   ]
  },
  {
   "cell_type": "code",
   "execution_count": null,
   "id": "eeec06aa",
   "metadata": {},
   "outputs": [],
   "source": [
    "# Similar a .split()\n",
    "re.split(r\" \", \"Buen día a todos. Como todos los días hoy será un gran día.\")"
   ]
  },
  {
   "cell_type": "code",
   "execution_count": null,
   "id": "6e17d60c",
   "metadata": {},
   "outputs": [],
   "source": [
    "# Similar a replace\n",
    "re.sub(r\"todos\", \"tod@s\", \"Buen día a todos. Como todos los días hoy será un gran día.\")"
   ]
  },
  {
   "cell_type": "markdown",
   "id": "783577a3",
   "metadata": {},
   "source": [
    "#### Usando metacaracteres"
   ]
  },
  {
   "cell_type": "code",
   "execution_count": null,
   "id": "cc0b580e",
   "metadata": {},
   "outputs": [],
   "source": [
    "# Encuentra las vocales a\n",
    "\n",
    "re.findall(r\"a\", \"Buen día a todos. Como todos los días hoy será un gran día\")"
   ]
  },
  {
   "cell_type": "code",
   "execution_count": null,
   "id": "44fc5328",
   "metadata": {},
   "outputs": [],
   "source": [
    "# Encuentra las vocales a y e\n",
    "\n",
    "re.findall(r\"[ae]\", \"Buen día a todos. Como todos los días hoy será un gran día\")"
   ]
  },
  {
   "cell_type": "code",
   "execution_count": null,
   "id": "a276be73",
   "metadata": {},
   "outputs": [],
   "source": [
    "# Encuentra todas las vocales\n",
    "\n",
    "re.findall(r\"[aeiou]\", \"Buen día a todos. Como todos los días hoy será un gran día\")"
   ]
  },
  {
   "cell_type": "code",
   "execution_count": null,
   "id": "d0b3a46a",
   "metadata": {},
   "outputs": [],
   "source": [
    "# El punto indica cualquier elemento\n",
    "\n",
    "re.findall(r\"tod.s\", \"todos, todas, todes, tod@s\")"
   ]
  },
  {
   "cell_type": "code",
   "execution_count": null,
   "id": "6168b4b4",
   "metadata": {},
   "outputs": [],
   "source": [
    "# Encuentra todas las mayusculas a través de un rango\n",
    "\n",
    "re.findall(r\"[A-Z]\", \"Buen día a todos. Como todos los días hoy será un gran día\")"
   ]
  },
  {
   "cell_type": "code",
   "execution_count": null,
   "id": "10b8293f",
   "metadata": {
    "scrolled": true
   },
   "outputs": [],
   "source": [
    "# Encuentra todas las minusculas a través de un rango\n",
    "\n",
    "re.findall(r\"[a-z]\", \"Buen día a todos. Como todos los días hoy será un gran día\")"
   ]
  },
  {
   "cell_type": "markdown",
   "id": "8eb5d112",
   "metadata": {},
   "source": [
    "**Las expresiones regulares se pueden concatenar para formar nuevas expresiones regulares; si A y B son expresiones regulares, AB también es una expresión regular. En general, si una cadena p coincide con A y otra cadena q coincide con B , la cadena \"pq\" coincidirá con AB**"
   ]
  },
  {
   "cell_type": "code",
   "execution_count": null,
   "id": "d1abcb84",
   "metadata": {},
   "outputs": [],
   "source": [
    "# Encuentra todas las mayusculas a través de un rango seguido de una minuscula\n",
    "\n",
    "re.findall(r\"[A-Z][a-z]\", \"Buen día a todos. Como todos los días hoy será un gran día\")"
   ]
  },
  {
   "cell_type": "code",
   "execution_count": null,
   "id": "495d7623",
   "metadata": {},
   "outputs": [],
   "source": [
    "# Encuentra todas las mayusculas a través de un rango seguido de 3 minusculas\n",
    "\n",
    "re.findall(r\"[A-Z][a-z][a-z][a-z]\", \"Buen día a todos. Como todos los días hoy será un gran día\")"
   ]
  },
  {
   "cell_type": "code",
   "execution_count": null,
   "id": "efc7649c",
   "metadata": {},
   "outputs": [],
   "source": [
    "# Encuentra números\n",
    "\n",
    "re.findall(r\"[0-9]\", \"El 31 de diciembre es noche vieja\")"
   ]
  },
  {
   "cell_type": "code",
   "execution_count": null,
   "id": "b7fb81ca",
   "metadata": {},
   "outputs": [],
   "source": [
    "# Encuentra números\n",
    "\n",
    "re.findall(r\"[\\d]\", \"El 31 de diciembre es noche vieja\")"
   ]
  },
  {
   "cell_type": "code",
   "execution_count": null,
   "id": "7279fed7",
   "metadata": {},
   "outputs": [],
   "source": [
    "# Que NO coincida con un número\n",
    "\n",
    "re.findall(r\"[^0-9]\", \"El 31 de diciembre es noche vieja\")"
   ]
  },
  {
   "cell_type": "code",
   "execution_count": null,
   "id": "3f26074b",
   "metadata": {},
   "outputs": [],
   "source": [
    "# Similar a [^0-9]\n",
    "\n",
    "re.findall(r\"[\\D]\", \"El 31 de diciembre es noche vieja\")"
   ]
  },
  {
   "cell_type": "code",
   "execution_count": null,
   "id": "09bcd304",
   "metadata": {},
   "outputs": [],
   "source": [
    "# Encuentra un número con 2 dígitos\n",
    "\n",
    "re.findall(r\"[0-9][0-9]\", \"El 31 de diciembre es noche vieja\")"
   ]
  },
  {
   "cell_type": "code",
   "execution_count": null,
   "id": "f95cec2c",
   "metadata": {},
   "outputs": [],
   "source": [
    "# Encuentra un número con 2 dígitos\n",
    "\n",
    "re.findall(r\"[\\d][\\d]\", \"El 31 de diciembre es noche vieja\")"
   ]
  },
  {
   "cell_type": "code",
   "execution_count": null,
   "id": "8b2b3c17",
   "metadata": {},
   "outputs": [],
   "source": [
    "# Encuentra todos los elementos que no sean números, letras ni espacios\n",
    "\n",
    "re.findall(r\"[^a-zA-Z0-9\\s]\", \"De #Vacaciones con @MiAmigo en la #Playa\")"
   ]
  },
  {
   "cell_type": "code",
   "execution_count": null,
   "id": "eefb5dbd",
   "metadata": {},
   "outputs": [],
   "source": [
    "# Encuentra todos los hashtag y arrobas\n",
    "\n",
    "re.findall(r\"[^\\w\\s]\", \"De #Vacaciones con @MiAmigo en la #Playa\")"
   ]
  },
  {
   "cell_type": "code",
   "execution_count": null,
   "id": "873179b9",
   "metadata": {},
   "outputs": [],
   "source": [
    "# Encuentra todos los hashtag y arrobas\n",
    "\n",
    "re.findall(r\"[^a-zA-Z0-9\\s](\\w+)\", \"De #Vacaciones con @MiAmigo en la #Playa\")"
   ]
  },
  {
   "cell_type": "code",
   "execution_count": null,
   "id": "bd779e9c",
   "metadata": {},
   "outputs": [],
   "source": [
    "# Encuentra todos los hashtag\n",
    "re.findall(r\"#(\\w+)\", \"De #Vacaciones con @MiAmigo en la #Playa\")"
   ]
  },
  {
   "cell_type": "code",
   "execution_count": null,
   "id": "0bf5c76d",
   "metadata": {},
   "outputs": [],
   "source": [
    "# Encuentra todos los arrobas\n",
    "re.findall(r\"@(\\w+)\", \"De #Vacaciones con @MiAmigo en la #Playa\")"
   ]
  },
  {
   "cell_type": "markdown",
   "id": "c70209c3",
   "metadata": {},
   "source": [
    "### Ejercicios:\n",
    "- Crea las **`regex`** para encontrar lo siguiente y describe que trabajo realizan los **`metacaracteres`**:\n",
    "1. Un número telefonico de España\n",
    "2. Un hashtag que comience con un número en lugar de una letra\n",
    "3. Un hashtag que comience con un número o letra\n",
    "4. Un número impar de dos dígitos\n",
    "5. Palabras que comiencen con \"_\"\n",
    "6. Palabras que comiencen con \"\\\\\"\n",
    "7. Palabras que tengan la siguiente estructura: \"<....>\" (menor que al inicio y mayor que la final).\n",
    "8. Palabras que contengan un número al final\n",
    "9. Un correo electronico de gmail.com\n",
    "10. Cualquier correo electronico que termine en .com"
   ]
  },
  {
   "cell_type": "code",
   "execution_count": null,
   "id": "78c9e38b",
   "metadata": {},
   "outputs": [],
   "source": []
  }
 ],
 "metadata": {
  "kernelspec": {
   "display_name": "Python 3 (ipykernel)",
   "language": "python",
   "name": "python3"
  },
  "language_info": {
   "codemirror_mode": {
    "name": "ipython",
    "version": 3
   },
   "file_extension": ".py",
   "mimetype": "text/x-python",
   "name": "python",
   "nbconvert_exporter": "python",
   "pygments_lexer": "ipython3",
   "version": "3.10.12"
  }
 },
 "nbformat": 4,
 "nbformat_minor": 5
}
